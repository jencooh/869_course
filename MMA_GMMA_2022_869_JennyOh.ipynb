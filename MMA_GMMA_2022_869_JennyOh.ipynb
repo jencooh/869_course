{
  "nbformat": 4,
  "nbformat_minor": 0,
  "metadata": {
    "kernelspec": {
      "name": "python3",
      "display_name": "Python 3"
    },
    "colab": {
      "name": "MMA/GMMA 2022_869_JennyOh.ipynb",
      "provenance": [],
      "collapsed_sections": [],
      "include_colab_link": true
    }
  },
  "cells": [
    {
      "cell_type": "markdown",
      "metadata": {
        "id": "view-in-github",
        "colab_type": "text"
      },
      "source": [
        "<a href=\"https://colab.research.google.com/github/jencooh/869_course/blob/main/MMA_GMMA_2022_869_JennyOh.ipynb\" target=\"_parent\"><img src=\"https://colab.research.google.com/assets/colab-badge.svg\" alt=\"Open In Colab\"/></a>"
      ]
    },
    {
      "cell_type": "markdown",
      "metadata": {
        "id": "HKmorPdno_n_"
      },
      "source": [
        "# MMA/GMMA/MMAI 869: Individual Assignment\n",
        "\n",
        "Version 1: Updated September 27, 2021\n",
        "\n",
        "<font color='red'>\\# TODO: fill in the below</font>\n",
        "\n",
        "- Jenny, Oh\n",
        "- 20312150\n",
        "- 1\n",
        "- 1984\n",
        "- 2021/12/12"
      ]
    },
    {
      "cell_type": "markdown",
      "metadata": {
        "id": "emfFtv4aHBI1"
      },
      "source": [
        "# Assignment Instructions\n",
        "\n",
        "This assignment contains four questions. The questions are fully contained in this Google Colab Notebook. \n",
        "\n",
        "You are to make a copy of this Notebook and edit the copy to provide your answers. You are to complete the assignment entirely within Google Colab. Why?\n",
        "\n",
        "- It gives you practice using cloud-based interactive notebook environments (which is a popular workflow)\n",
        "- It is easier for you to manage the environment (e.g., installing packages, etc.)\n",
        "- Google Colab has nice, beefy machines, so you don't have to worry about running out of memory on your local computer.\n",
        "- It will be easier for the TA to help you debug your code if you need help\n",
        "- It will be easier for the TA to mark/run your code\n",
        "\n",
        "Some parts of this assigment require you to write code. Use Python or R. For Python, you may use standard Python libraries, including `scikit-learn`, `pandas`, `numpy`, and `scipy`. For R, you may use `dplyr`, `caret`, `ggplot2`, `rpart` and other standard libraries.\n",
        "\n",
        "Some parts of this assignment require text responses. In these cases, type your response in the Notebook cell indicated. Use English. Use proper grammar, spelling, and punctuation. Be professional and clear. Be complete, but not overly-verbose. Feel free to use [Markdown syntax](https://www.markdownguide.org/basic-syntax/) to format your answer (i.e., add bold, italics, lists, tables).\n",
        "\n",
        "## What to Submit to the Course Portal\n",
        "\n",
        "- Export your completed Notebook as a PDF file by clicking File->Print->Save as PDF.\n",
        "- Please do not submit the Notebook file (`.ipynb`) to the course portal. \n",
        "- Please submit the PDF export of the Notebook. \n",
        "   - Please name the PDF file `2022_869_FirstnameLastName.pdf`\n",
        "      - E.g., `2022_869_StephenThomas.pdf`\n",
        "   - Please make sure you have run all the cells so we can see the output!\n",
        "   - Best practice: Before exporting to PDF click Runtime->Restart and run all.\n",
        "\n"
      ]
    },
    {
      "cell_type": "markdown",
      "metadata": {
        "id": "oZFTCX4DqmRO"
      },
      "source": [
        "# Preliminaries: Inspect and Set up environment\n",
        "\n",
        "No action is required on your part in this section. These cells print out helpful information about the environment, just in case."
      ]
    },
    {
      "cell_type": "code",
      "metadata": {
        "id": "xj34Jz-Do_oK"
      },
      "source": [
        "import datetime\n",
        "import pandas as pd\n",
        "import numpy as np"
      ],
      "execution_count": null,
      "outputs": []
    },
    {
      "cell_type": "code",
      "metadata": {
        "id": "mqQ_XOKyXTS6",
        "colab": {
          "base_uri": "https://localhost:8080/"
        },
        "outputId": "e2c4b874-e44a-465b-84bf-aee6b51aae58"
      },
      "source": [
        "print(datetime.datetime.now())"
      ],
      "execution_count": null,
      "outputs": [
        {
          "output_type": "stream",
          "name": "stdout",
          "text": [
            "2021-12-12 20:43:37.062815\n"
          ]
        }
      ]
    },
    {
      "cell_type": "code",
      "metadata": {
        "colab": {
          "base_uri": "https://localhost:8080/"
        },
        "id": "LfOMt1lErLhZ",
        "outputId": "4bb3fc9f-6671-48ec-8650-be105d41f702"
      },
      "source": [
        "!which python"
      ],
      "execution_count": null,
      "outputs": [
        {
          "output_type": "stream",
          "name": "stdout",
          "text": [
            "/usr/local/bin/python\n"
          ]
        }
      ]
    },
    {
      "cell_type": "code",
      "metadata": {
        "colab": {
          "base_uri": "https://localhost:8080/"
        },
        "id": "aub2w1-arM5K",
        "outputId": "ff2741db-0928-483b-bc3f-bdab879fde1f"
      },
      "source": [
        "!python --version"
      ],
      "execution_count": null,
      "outputs": [
        {
          "output_type": "stream",
          "name": "stdout",
          "text": [
            "Python 3.7.12\n"
          ]
        }
      ]
    },
    {
      "cell_type": "code",
      "metadata": {
        "colab": {
          "base_uri": "https://localhost:8080/"
        },
        "id": "E9Y_n_8UrO9i",
        "outputId": "b179b3bb-0d31-4b47-f580-05c3d8254e83"
      },
      "source": [
        "!echo $PYTHONPATH"
      ],
      "execution_count": null,
      "outputs": [
        {
          "output_type": "stream",
          "name": "stdout",
          "text": [
            "/env/python\n"
          ]
        }
      ]
    },
    {
      "cell_type": "code",
      "metadata": {
        "id": "-qyD7Jl0Gw1E"
      },
      "source": [
        "# TODO: install any packages you need to here. For example:\n",
        "#pip install unidecode\n",
        "import matplotlib.pyplot as plt\n",
        "\n",
        "from sklearn.metrics import silhouette_score, silhouette_samples, calinski_harabasz_score\n",
        "from sklearn.preprocessing import StandardScaler\n",
        "from sklearn.cluster import KMeans, DBSCAN, AgglomerativeClustering\n",
        "from sklearn.mixture import GaussianMixture\n",
        "import seaborn as sns\n",
        "\n",
        "from IPython.core.interactiveshell import InteractiveShell\n",
        "InteractiveShell.ast_node_interactivity = \"all\""
      ],
      "execution_count": null,
      "outputs": []
    },
    {
      "cell_type": "code",
      "source": [
        "# Default plot settings\n",
        "SMALL_SIZE = 12\n",
        "MEDIUM_SIZE = 14\n",
        "BIGGER_SIZE = 16\n",
        "\n",
        "\n",
        "plt.rc('figure', figsize=[8.0, 5.0])     # controls the size of the figure\n",
        "plt.rc('font', size=SMALL_SIZE)          # controls default text sizes\n",
        "plt.rc('axes', titlesize=SMALL_SIZE)     # fontsize of the axes title\n",
        "plt.rc('axes', labelsize=MEDIUM_SIZE)    # fontsize of the x and y labels\n",
        "plt.rc('xtick', labelsize=SMALL_SIZE)    # fontsize of the tick labels\n",
        "plt.rc('ytick', labelsize=SMALL_SIZE)    # fontsize of the tick labels\n",
        "plt.rc('legend', fontsize=SMALL_SIZE)    # legend fontsize\n",
        "plt.rc('figure', titlesize=BIGGER_SIZE)  # fontsize of the figure title\n",
        "plt.rc('axes', grid=True)"
      ],
      "metadata": {
        "id": "xsJcvv41EMCC"
      },
      "execution_count": null,
      "outputs": []
    },
    {
      "cell_type": "markdown",
      "metadata": {
        "id": "RLlBjIyS2o54"
      },
      "source": [
        "# Question 1: Uncle Steve's Diamonds"
      ]
    },
    {
      "cell_type": "markdown",
      "metadata": {
        "id": "qj1NSQelo_oN"
      },
      "source": [
        "## Instructions\n",
        "\n",
        "You work at a local jewelry store named *Uncle Steve's Diamonds*. You started as a janitor, but you’ve recently been promoted to senior data analyst! Congratulations.\n",
        "\n",
        "Uncle Steve, the store's owner, needs to better understand the store's customers. In particular, he wants to know what kind of customers shop at the store. He wants to know the main types of *customer personas*. Once he knows these, he will contemplate ways to better market to each persona, better satisfy each persona, better cater to each persona, increase the loyalty of each persona, etc. But first, he must know the personas.\n",
        "\n",
        "You want to help Uncle Steve. Using sneaky magic (and the help of Environics), you've collected four useful features for a subset of the customers: age, income, spending score (i.e., a score based on how much they’ve spent at the store in total), and savings (i.e., how much money they have in their personal bank account). \n",
        "\n",
        "**Your tasks**\n",
        "\n",
        "1. Pick a clustering algorithm (the [`sklearn.cluster`](https://scikit-learn.org/stable/modules/classes.html#module-sklearn.cluster) module has many good choices, including [`KMeans`](https://scikit-learn.org/stable/modules/generated/sklearn.cluster.KMeans.html#sklearn.cluster.KMeans), [`DBSCAN`](https://scikit-learn.org/stable/modules/generated/sklearn.cluster.DBSCAN.html#sklearn.cluster.DBSCAN), and [`AgglomerativeClustering`](https://scikit-learn.org/stable/modules/generated/sklearn.cluster.AgglomerativeClustering.html#sklearn.cluster.AgglomerativeClustering) (aka Hierarchical)). (Note that another popular implementation of the hierarchical algorithm can be found in SciPy's [`scipy.cluster.hierarchy.linkage`](https://docs.scipy.org/doc/scipy/reference/generated/scipy.cluster.hierarchy.linkage.html).) Don't spend a lot of time thinking about which algorithm to choose - just pick one. Cluster the customers as best as you can, within reason. That is, try different feature preprocessing steps, hyperparameter values, and/or distance metrics. You don't need to try every posssible combination, but try a few at least. Measure how good each  model configuration is by calculating an internal validation metric (e.g., [`calinski_harabasz_score`](https://scikit-learn.org/stable/modules/generated/sklearn.metrics.calinski_harabasz_score.html) or [`silhouette_score`](https://scikit-learn.org/stable/modules/generated/sklearn.metrics.silhouette_score.html#sklearn.metrics.silhouette_score)).\n",
        "2. You have some doubts - you're not sure if the algorithm you chose in part 1 is the best algorithm for this dataset/problem. Neither is Uncle Steve. So, choose a different algorithm (any!) and do it all again.\n",
        "3. Which clustering algorithm is \"better\" in this case? Think about charateristics of the algorithm like quality of results, ease of use, speed, interpretability, etc. Choose a \"winner\" and justify to Uncle Steve.\n",
        "4. Interpret the clusters of the winning model. That is, describe, in words, a *persona* that accurately depicts each cluster. Use statistics (e.g., cluster means/distributions), examples (e.g., exemplar instances from each cluster), and/or visualizations (e.g., relative importance plots, snakeplots) to get started. Human judgement and creativity will be necessary. This is where it all comes together. Be descripive and *help Uncle Steve understand his customers better*. Please!\n",
        "\n",
        "**Marking**\n",
        "\n",
        "The coding parts (i.e., 1 and 2) will be marked based on:\n",
        "\n",
        "- *Correctness*. Code clearly and fully performs the task specified.\n",
        "- *Reproducibility*. Code is fully reproducible. I.e., you (and I) are able to run this Notebook again and again, from top to bottom, and get the same results each time.\n",
        "- *Style*. Code is organized. All parts commented with clear reasoning and rationale. No old code laying around. Code easy to follow.\n",
        "\n",
        "\n",
        "Parts 3 and 4 will be marked on:\n",
        "\n",
        "- *Quality*. Response is well-justified and convincing. Responses uses facts and data where possible.\n",
        "- *Style*. Response uses proper grammar, spelling, and punctuation. Response is clear and professional. Response is complete, but not overly-verbose. Response follows length guidelines.\n",
        "\n",
        "\n",
        "**Tips**\n",
        "\n",
        "- Since clustering is an unsupervised ML technique, you don't need to split the data into training/validation/test or anything like that. Phew!\n",
        "- On the flip side, since clustering is unsupervised, you will never know the \"true\" clusters, and so you will never know if a given algorithm is \"correct.\" There really is no notion of \"correctness\" - only \"usefullness.\"\n",
        "- Many online clustering tutorials (including some from Uncle Steve) create flashy visualizations of the clusters by plotting the instances on a 2-D graph and coloring each point by the cluster ID. This is really nice and all, but it can only work if your dataset only has exactly two features - no more, no less. This dataset has more than two features, so you cannot use this technique. (But that's OK - you don't need to use this technique.) \n",
        "- Must you use all four features in the clustering? Not necessarily, no. But \"throwing away\" quality data, for no reason, is unlikely to improve a model.\n",
        "- Some people have success applying a dimensionality reduction technique (like [`sklearn.decomposition.PCA`](https://scikit-learn.org/stable/modules/generated/sklearn.decomposition.PCA.html)) to the features before clustering. You may do this if you wish, although it may not be as helpful in this case because there are only four features to begin with.\n",
        "- If you apply a transformation (e.g., [`MinMaxScaler`](https://scikit-learn.org/stable/modules/generated/sklearn.preprocessing.MinMaxScaler.html) or [`StandardScaler`](https://scikit-learn.org/stable/modules/generated/sklearn.preprocessing.StandardScaler.html#sklearn.preprocessing.StandardScaler)) to the features before clustering, you may have difficulty interpretting the means of the clusters (e.g., what is a mean Age of 0.2234??). There are two options to fix this: first, you can always reverse a transformation with the `inverse_transform` method. Second, you can just use the original dataset (i.e., before any prepropoceesing) during the interpreation step.\n",
        "- You cannot change the distance metric for K-Means. (This is for theoretical reasons: K-Means only works/makes sense with Euclidean distance.)\n"
      ]
    },
    {
      "cell_type": "markdown",
      "metadata": {
        "id": "Yww0-vtpOw7z"
      },
      "source": [
        "## 1.0: Load data "
      ]
    },
    {
      "cell_type": "code",
      "metadata": {
        "colab": {
          "base_uri": "https://localhost:8080/"
        },
        "id": "qVWx2c-DhQYo",
        "outputId": "9f89bf52-d09f-4fdc-a36d-3f84558ffc45"
      },
      "source": [
        "# DO NOT MODIFY THIS CELL\n",
        "df1 = pd.read_csv(\"https://drive.google.com/uc?export=download&id=1thHDCwQK3GijytoSSZNekAsItN_FGHtm\")\n",
        "df1.info()"
      ],
      "execution_count": null,
      "outputs": [
        {
          "output_type": "stream",
          "name": "stdout",
          "text": [
            "<class 'pandas.core.frame.DataFrame'>\n",
            "RangeIndex: 505 entries, 0 to 504\n",
            "Data columns (total 4 columns):\n",
            " #   Column         Non-Null Count  Dtype  \n",
            "---  ------         --------------  -----  \n",
            " 0   Age            505 non-null    int64  \n",
            " 1   Income         505 non-null    int64  \n",
            " 2   SpendingScore  505 non-null    float64\n",
            " 3   Savings        505 non-null    float64\n",
            "dtypes: float64(2), int64(2)\n",
            "memory usage: 15.9 KB\n"
          ]
        }
      ]
    },
    {
      "cell_type": "code",
      "source": [
        "df1.describe().transpose()"
      ],
      "metadata": {
        "colab": {
          "base_uri": "https://localhost:8080/",
          "height": 174
        },
        "id": "IjwF2ozgmEwe",
        "outputId": "b65f0625-ac15-42d6-92ed-cc857af5ac00"
      },
      "execution_count": null,
      "outputs": [
        {
          "output_type": "execute_result",
          "data": {
            "text/html": [
              "<div>\n",
              "<style scoped>\n",
              "    .dataframe tbody tr th:only-of-type {\n",
              "        vertical-align: middle;\n",
              "    }\n",
              "\n",
              "    .dataframe tbody tr th {\n",
              "        vertical-align: top;\n",
              "    }\n",
              "\n",
              "    .dataframe thead th {\n",
              "        text-align: right;\n",
              "    }\n",
              "</style>\n",
              "<table border=\"1\" class=\"dataframe\">\n",
              "  <thead>\n",
              "    <tr style=\"text-align: right;\">\n",
              "      <th></th>\n",
              "      <th>count</th>\n",
              "      <th>mean</th>\n",
              "      <th>std</th>\n",
              "      <th>min</th>\n",
              "      <th>25%</th>\n",
              "      <th>50%</th>\n",
              "      <th>75%</th>\n",
              "      <th>max</th>\n",
              "    </tr>\n",
              "  </thead>\n",
              "  <tbody>\n",
              "    <tr>\n",
              "      <th>Age</th>\n",
              "      <td>505.0</td>\n",
              "      <td>59.019802</td>\n",
              "      <td>24.140043</td>\n",
              "      <td>17.0</td>\n",
              "      <td>34.000000</td>\n",
              "      <td>59.000000</td>\n",
              "      <td>85.000000</td>\n",
              "      <td>97.0</td>\n",
              "    </tr>\n",
              "    <tr>\n",
              "      <th>Income</th>\n",
              "      <td>505.0</td>\n",
              "      <td>75513.291089</td>\n",
              "      <td>35992.922184</td>\n",
              "      <td>12000.0</td>\n",
              "      <td>34529.000000</td>\n",
              "      <td>75078.000000</td>\n",
              "      <td>107100.000000</td>\n",
              "      <td>142000.0</td>\n",
              "    </tr>\n",
              "    <tr>\n",
              "      <th>SpendingScore</th>\n",
              "      <td>505.0</td>\n",
              "      <td>0.505083</td>\n",
              "      <td>0.259634</td>\n",
              "      <td>0.0</td>\n",
              "      <td>0.304792</td>\n",
              "      <td>0.368215</td>\n",
              "      <td>0.768279</td>\n",
              "      <td>1.0</td>\n",
              "    </tr>\n",
              "    <tr>\n",
              "      <th>Savings</th>\n",
              "      <td>505.0</td>\n",
              "      <td>11862.455867</td>\n",
              "      <td>4949.229253</td>\n",
              "      <td>0.0</td>\n",
              "      <td>6828.709702</td>\n",
              "      <td>14209.932802</td>\n",
              "      <td>16047.268331</td>\n",
              "      <td>20000.0</td>\n",
              "    </tr>\n",
              "  </tbody>\n",
              "</table>\n",
              "</div>"
            ],
            "text/plain": [
              "               count          mean  ...            75%       max\n",
              "Age            505.0     59.019802  ...      85.000000      97.0\n",
              "Income         505.0  75513.291089  ...  107100.000000  142000.0\n",
              "SpendingScore  505.0      0.505083  ...       0.768279       1.0\n",
              "Savings        505.0  11862.455867  ...   16047.268331   20000.0\n",
              "\n",
              "[4 rows x 8 columns]"
            ]
          },
          "metadata": {},
          "execution_count": 9
        }
      ]
    },
    {
      "cell_type": "code",
      "source": [
        "X = df1.copy()"
      ],
      "metadata": {
        "id": "Awbpg8MSr-bX"
      },
      "execution_count": null,
      "outputs": []
    },
    {
      "cell_type": "code",
      "source": [
        "scaler = StandardScaler()\n",
        "features = ['Age', 'Income', 'SpendingScore', 'Savings']\n",
        "X[features] = scaler.fit_transform(X[features])"
      ],
      "metadata": {
        "id": "qGx25By8p6OP"
      },
      "execution_count": null,
      "outputs": []
    },
    {
      "cell_type": "code",
      "source": [
        "X.shape\n",
        "X.info()\n",
        "X.describe().transpose()"
      ],
      "metadata": {
        "colab": {
          "base_uri": "https://localhost:8080/",
          "height": 377
        },
        "id": "tU5z6cK4qIrc",
        "outputId": "e4f57311-06b4-4dae-d5f9-6ca54769dc61"
      },
      "execution_count": null,
      "outputs": [
        {
          "output_type": "execute_result",
          "data": {
            "text/plain": [
              "(505, 4)"
            ]
          },
          "metadata": {},
          "execution_count": 12
        },
        {
          "output_type": "stream",
          "name": "stdout",
          "text": [
            "<class 'pandas.core.frame.DataFrame'>\n",
            "RangeIndex: 505 entries, 0 to 504\n",
            "Data columns (total 4 columns):\n",
            " #   Column         Non-Null Count  Dtype  \n",
            "---  ------         --------------  -----  \n",
            " 0   Age            505 non-null    float64\n",
            " 1   Income         505 non-null    float64\n",
            " 2   SpendingScore  505 non-null    float64\n",
            " 3   Savings        505 non-null    float64\n",
            "dtypes: float64(4)\n",
            "memory usage: 15.9 KB\n"
          ]
        },
        {
          "output_type": "execute_result",
          "data": {
            "text/html": [
              "<div>\n",
              "<style scoped>\n",
              "    .dataframe tbody tr th:only-of-type {\n",
              "        vertical-align: middle;\n",
              "    }\n",
              "\n",
              "    .dataframe tbody tr th {\n",
              "        vertical-align: top;\n",
              "    }\n",
              "\n",
              "    .dataframe thead th {\n",
              "        text-align: right;\n",
              "    }\n",
              "</style>\n",
              "<table border=\"1\" class=\"dataframe\">\n",
              "  <thead>\n",
              "    <tr style=\"text-align: right;\">\n",
              "      <th></th>\n",
              "      <th>count</th>\n",
              "      <th>mean</th>\n",
              "      <th>std</th>\n",
              "      <th>min</th>\n",
              "      <th>25%</th>\n",
              "      <th>50%</th>\n",
              "      <th>75%</th>\n",
              "      <th>max</th>\n",
              "    </tr>\n",
              "  </thead>\n",
              "  <tbody>\n",
              "    <tr>\n",
              "      <th>Age</th>\n",
              "      <td>505.0</td>\n",
              "      <td>5.672031e-17</td>\n",
              "      <td>1.000992</td>\n",
              "      <td>-1.742394</td>\n",
              "      <td>-1.037472</td>\n",
              "      <td>-0.000821</td>\n",
              "      <td>1.077295</td>\n",
              "      <td>1.574888</td>\n",
              "    </tr>\n",
              "    <tr>\n",
              "      <th>Income</th>\n",
              "      <td>505.0</td>\n",
              "      <td>-2.638154e-17</td>\n",
              "      <td>1.000992</td>\n",
              "      <td>-1.766355</td>\n",
              "      <td>-1.139805</td>\n",
              "      <td>-0.012106</td>\n",
              "      <td>0.878451</td>\n",
              "      <td>1.849048</td>\n",
              "    </tr>\n",
              "    <tr>\n",
              "      <th>SpendingScore</th>\n",
              "      <td>505.0</td>\n",
              "      <td>-1.954432e-16</td>\n",
              "      <td>1.000992</td>\n",
              "      <td>-1.947295</td>\n",
              "      <td>-0.772201</td>\n",
              "      <td>-0.527678</td>\n",
              "      <td>1.014725</td>\n",
              "      <td>1.908103</td>\n",
              "    </tr>\n",
              "    <tr>\n",
              "      <th>Savings</th>\n",
              "      <td>505.0</td>\n",
              "      <td>-4.058360e-16</td>\n",
              "      <td>1.000992</td>\n",
              "      <td>-2.399206</td>\n",
              "      <td>-1.018085</td>\n",
              "      <td>0.474782</td>\n",
              "      <td>0.846387</td>\n",
              "      <td>1.645835</td>\n",
              "    </tr>\n",
              "  </tbody>\n",
              "</table>\n",
              "</div>"
            ],
            "text/plain": [
              "               count          mean       std  ...       50%       75%       max\n",
              "Age            505.0  5.672031e-17  1.000992  ... -0.000821  1.077295  1.574888\n",
              "Income         505.0 -2.638154e-17  1.000992  ... -0.012106  0.878451  1.849048\n",
              "SpendingScore  505.0 -1.954432e-16  1.000992  ... -0.527678  1.014725  1.908103\n",
              "Savings        505.0 -4.058360e-16  1.000992  ...  0.474782  0.846387  1.645835\n",
              "\n",
              "[4 rows x 8 columns]"
            ]
          },
          "metadata": {},
          "execution_count": 12
        }
      ]
    },
    {
      "cell_type": "markdown",
      "metadata": {
        "id": "R04NzckZKbG2"
      },
      "source": [
        "## 1.1: Clustering Algorithm #1"
      ]
    },
    {
      "cell_type": "code",
      "source": [
        "#clustering without scaling\n",
        "k_means = KMeans(n_clusters = 5, random_state = 42)\n",
        "k_means.fit(df1)"
      ],
      "metadata": {
        "colab": {
          "base_uri": "https://localhost:8080/"
        },
        "id": "QTwiSq3LIl1Y",
        "outputId": "107098bb-16af-4d3f-dd4f-854d9eead2cd"
      },
      "execution_count": null,
      "outputs": [
        {
          "output_type": "execute_result",
          "data": {
            "text/plain": [
              "KMeans(n_clusters=5, random_state=42)"
            ]
          },
          "metadata": {},
          "execution_count": 13
        }
      ]
    },
    {
      "cell_type": "code",
      "source": [
        "label_0 = k_means.labels_\n",
        "label_0"
      ],
      "metadata": {
        "colab": {
          "base_uri": "https://localhost:8080/"
        },
        "id": "KCU_g0KGIuel",
        "outputId": "de25a7b8-4866-4b86-91d5-c42d7d44d0da"
      },
      "execution_count": null,
      "outputs": [
        {
          "output_type": "execute_result",
          "data": {
            "text/plain": [
              "array([2, 2, 2, 2, 0, 4, 2, 0, 0, 0, 3, 1, 1, 3, 2, 4, 2, 0, 0, 3, 1, 4,\n",
              "       2, 0, 3, 4, 4, 2, 0, 2, 2, 2, 0, 2, 1, 2, 0, 2, 1, 3, 2, 0, 4, 2,\n",
              "       2, 4, 3, 4, 1, 2, 0, 1, 4, 0, 2, 0, 1, 0, 0, 0, 0, 0, 0, 2, 2, 2,\n",
              "       0, 4, 4, 2, 2, 3, 0, 0, 3, 2, 1, 2, 2, 4, 2, 3, 1, 0, 0, 1, 1, 2,\n",
              "       2, 2, 2, 2, 4, 0, 2, 4, 1, 2, 2, 3, 3, 4, 3, 4, 1, 0, 0, 3, 3, 2,\n",
              "       0, 1, 2, 1, 1, 1, 2, 3, 4, 0, 1, 0, 0, 0, 3, 3, 2, 0, 2, 2, 3, 2,\n",
              "       1, 2, 4, 0, 4, 4, 2, 3, 0, 2, 2, 4, 2, 4, 2, 4, 2, 0, 2, 3, 0, 2,\n",
              "       0, 3, 3, 2, 0, 2, 3, 0, 2, 1, 0, 1, 0, 2, 3, 2, 0, 2, 1, 2, 0, 2,\n",
              "       2, 0, 0, 0, 2, 2, 3, 4, 4, 0, 1, 2, 2, 2, 1, 0, 2, 2, 2, 0, 4, 3,\n",
              "       0, 0, 0, 1, 2, 1, 2, 3, 2, 0, 4, 2, 0, 0, 0, 0, 2, 0, 1, 4, 1, 0,\n",
              "       2, 2, 3, 0, 3, 4, 1, 2, 2, 0, 2, 2, 0, 2, 2, 2, 1, 2, 3, 1, 4, 2,\n",
              "       2, 2, 3, 2, 3, 0, 4, 4, 4, 0, 2, 3, 0, 0, 1, 3, 2, 2, 3, 2, 2, 0,\n",
              "       2, 0, 3, 4, 2, 3, 0, 2, 0, 0, 1, 2, 0, 0, 2, 2, 0, 1, 3, 4, 3, 0,\n",
              "       0, 1, 3, 0, 0, 4, 2, 3, 3, 2, 3, 0, 0, 1, 2, 3, 0, 2, 1, 4, 2, 0,\n",
              "       1, 3, 0, 3, 3, 2, 0, 1, 2, 2, 0, 1, 0, 1, 0, 3, 0, 0, 3, 0, 3, 2,\n",
              "       3, 2, 2, 1, 3, 0, 0, 4, 4, 1, 0, 4, 0, 3, 2, 2, 2, 0, 0, 3, 3, 3,\n",
              "       3, 4, 2, 3, 4, 0, 2, 0, 4, 2, 0, 0, 2, 0, 3, 2, 3, 3, 3, 2, 0, 0,\n",
              "       0, 0, 0, 1, 3, 0, 2, 3, 1, 3, 0, 0, 2, 0, 0, 2, 0, 0, 3, 0, 2, 1,\n",
              "       4, 3, 2, 0, 1, 2, 2, 2, 0, 1, 4, 3, 2, 1, 2, 2, 4, 3, 4, 4, 3, 1,\n",
              "       0, 2, 0, 1, 0, 3, 2, 2, 0, 4, 3, 0, 1, 2, 2, 3, 2, 0, 2, 3, 2, 0,\n",
              "       2, 0, 4, 1, 3, 4, 1, 1, 0, 0, 2, 4, 2, 3, 3, 4, 4, 3, 4, 0, 1, 3,\n",
              "       2, 1, 0, 0, 4, 2, 3, 2, 2, 1, 2, 2, 2, 0, 3, 3, 2, 2, 2, 0, 3, 0,\n",
              "       0, 0, 0, 4, 0, 0, 0, 2, 2, 0, 0, 2, 4, 0, 1, 4, 1, 0, 0, 0, 0],\n",
              "      dtype=int32)"
            ]
          },
          "metadata": {},
          "execution_count": 14
        }
      ]
    },
    {
      "cell_type": "code",
      "source": [
        "#Check silhouette score and ch\n",
        "sil = silhouette_score(df1, label_0,  metric='euclidean')\n",
        "ch = calinski_harabasz_score(df1, label_0)\n",
        "\n",
        "print(sil)\n",
        "print(ch)"
      ],
      "metadata": {
        "colab": {
          "base_uri": "https://localhost:8080/"
        },
        "id": "9plUyLYcI8LV",
        "outputId": "adbda1f0-dfce-4470-c2e3-a1d0cbf41ca5"
      },
      "execution_count": null,
      "outputs": [
        {
          "output_type": "stream",
          "name": "stdout",
          "text": [
            "0.6782348405719981\n",
            "4683.873383897563\n"
          ]
        }
      ]
    },
    {
      "cell_type": "code",
      "metadata": {
        "id": "Qeavkicwo_oN",
        "colab": {
          "base_uri": "https://localhost:8080/"
        },
        "outputId": "d1adf8ba-84e5-4133-ad6a-6345e103c6bb"
      },
      "source": [
        "# Using K-Means Clustering after scaling\n",
        "k_means1 = KMeans(n_clusters = 4, random_state = 42)\n",
        "k_means1.fit(X)"
      ],
      "execution_count": null,
      "outputs": [
        {
          "output_type": "execute_result",
          "data": {
            "text/plain": [
              "KMeans(n_clusters=4, random_state=42)"
            ]
          },
          "metadata": {},
          "execution_count": 16
        }
      ]
    },
    {
      "cell_type": "code",
      "source": [
        "label_1 = k_means1.labels_\n",
        "label_1"
      ],
      "metadata": {
        "colab": {
          "base_uri": "https://localhost:8080/"
        },
        "id": "sPLBq9Dcsgfr",
        "outputId": "a28277c7-12fa-42e8-a61f-50c7b11c04f7"
      },
      "execution_count": null,
      "outputs": [
        {
          "output_type": "execute_result",
          "data": {
            "text/plain": [
              "array([1, 1, 1, 1, 2, 3, 1, 2, 2, 2, 0, 0, 0, 0, 1, 0, 1, 2, 2, 0, 0, 0,\n",
              "       1, 2, 0, 3, 3, 1, 2, 1, 1, 1, 2, 1, 0, 1, 2, 1, 0, 0, 1, 2, 3, 1,\n",
              "       1, 3, 0, 3, 0, 1, 2, 0, 3, 2, 1, 2, 0, 2, 2, 2, 2, 2, 2, 1, 1, 1,\n",
              "       2, 3, 3, 1, 1, 0, 2, 2, 0, 1, 0, 1, 1, 3, 1, 0, 1, 2, 2, 0, 0, 1,\n",
              "       1, 1, 1, 1, 3, 2, 1, 3, 0, 1, 1, 0, 0, 3, 0, 3, 0, 2, 2, 0, 0, 1,\n",
              "       2, 0, 1, 0, 0, 0, 1, 0, 3, 2, 0, 2, 2, 2, 0, 0, 1, 2, 1, 1, 0, 1,\n",
              "       0, 1, 3, 2, 0, 3, 1, 0, 2, 1, 1, 3, 1, 3, 1, 0, 1, 2, 1, 0, 2, 1,\n",
              "       2, 0, 0, 1, 2, 1, 0, 2, 1, 0, 2, 0, 2, 1, 0, 1, 2, 1, 0, 1, 2, 1,\n",
              "       1, 2, 2, 2, 1, 1, 0, 3, 3, 2, 0, 1, 1, 1, 0, 2, 1, 1, 1, 2, 3, 0,\n",
              "       2, 2, 2, 0, 1, 0, 1, 0, 1, 2, 3, 1, 2, 2, 2, 2, 1, 2, 0, 3, 0, 2,\n",
              "       1, 1, 0, 2, 0, 3, 0, 1, 1, 2, 1, 1, 2, 1, 1, 1, 0, 1, 0, 0, 3, 1,\n",
              "       1, 1, 0, 1, 0, 2, 3, 3, 3, 2, 1, 0, 2, 2, 0, 0, 1, 1, 0, 1, 1, 2,\n",
              "       1, 2, 0, 3, 1, 0, 2, 1, 2, 2, 0, 1, 2, 2, 1, 1, 2, 0, 0, 0, 0, 2,\n",
              "       2, 0, 0, 2, 2, 3, 1, 0, 0, 1, 0, 2, 2, 0, 1, 0, 2, 1, 0, 3, 1, 2,\n",
              "       0, 0, 2, 0, 0, 1, 2, 0, 1, 1, 2, 0, 2, 0, 2, 0, 2, 2, 0, 2, 0, 1,\n",
              "       0, 1, 1, 0, 0, 2, 2, 3, 3, 0, 2, 3, 2, 0, 1, 1, 1, 2, 2, 0, 0, 0,\n",
              "       0, 0, 1, 0, 3, 2, 1, 2, 3, 1, 2, 2, 1, 2, 0, 1, 0, 0, 0, 1, 2, 2,\n",
              "       2, 2, 2, 0, 0, 2, 1, 0, 1, 0, 2, 2, 1, 2, 2, 1, 2, 2, 0, 2, 1, 0,\n",
              "       3, 0, 1, 2, 0, 1, 1, 1, 2, 0, 3, 0, 1, 0, 1, 1, 3, 0, 0, 3, 0, 0,\n",
              "       2, 1, 2, 0, 2, 0, 1, 1, 2, 0, 0, 2, 0, 1, 1, 0, 1, 2, 1, 0, 1, 2,\n",
              "       1, 2, 3, 0, 0, 3, 0, 0, 2, 2, 1, 3, 1, 0, 0, 0, 3, 0, 3, 2, 0, 0,\n",
              "       1, 0, 2, 2, 3, 1, 0, 1, 1, 0, 1, 1, 1, 2, 0, 0, 1, 1, 1, 2, 0, 2,\n",
              "       2, 2, 2, 3, 2, 2, 2, 1, 1, 2, 2, 1, 3, 2, 0, 3, 0, 2, 2, 2, 2],\n",
              "      dtype=int32)"
            ]
          },
          "metadata": {},
          "execution_count": 17
        }
      ]
    },
    {
      "cell_type": "code",
      "source": [
        "k_means1.cluster_centers_"
      ],
      "metadata": {
        "colab": {
          "base_uri": "https://localhost:8080/"
        },
        "id": "sSQFfxtNslB8",
        "outputId": "dc16972d-d2b9-4b78-bb72-4e45e12834c2"
      },
      "execution_count": null,
      "outputs": [
        {
          "output_type": "execute_result",
          "data": {
            "text/plain": [
              "array([[-0.72276928,  0.89502598, -0.90658925,  0.62188649],\n",
              "       [ 0.03879611, -0.08524639,  1.02721559, -1.00569483],\n",
              "       [ 1.19238486, -1.32510593, -0.67963841,  0.97016358],\n",
              "       [-1.44466803,  1.46050665,  1.51057952, -1.57249636]])"
            ]
          },
          "metadata": {},
          "execution_count": 18
        }
      ]
    },
    {
      "cell_type": "code",
      "source": [
        "#Check silhouette score and ch\n",
        "sil1 = silhouette_score(X, label_1,  metric='euclidean')\n",
        "ch1 = calinski_harabasz_score(X, label_1)\n",
        "\n",
        "print(sil)\n",
        "print(ch)"
      ],
      "metadata": {
        "colab": {
          "base_uri": "https://localhost:8080/"
        },
        "id": "csWaEZs3Eqkx",
        "outputId": "21b54bc4-1461-40dc-c0c2-5c1bde572f57"
      },
      "execution_count": null,
      "outputs": [
        {
          "output_type": "stream",
          "name": "stdout",
          "text": [
            "0.6782348405719981\n",
            "4683.873383897563\n"
          ]
        }
      ]
    },
    {
      "cell_type": "code",
      "source": [
        "#Hyperparameter Tuning with Elbow Method\n",
        "\n",
        "inertias = {}\n",
        "silhouettes = {}\n",
        "for k in range(2, 11):\n",
        "    kmeans = KMeans(n_clusters=k, random_state=42).fit(X)\n",
        "    inertias[k] = kmeans.inertia_ # Inertia: Sum of distances of samples to their closest cluster center\n",
        "    silhouettes[k] = silhouette_score(X, kmeans.labels_, metric='euclidean')\n",
        "    \n",
        "\n",
        "plt.figure();\n",
        "plt.plot(list(inertias.keys()), list(inertias.values()));\n",
        "plt.title('K-Means, Elbow Method')\n",
        "plt.xlabel(\"Number of clusters, K\");\n",
        "plt.ylabel(\"Inertia\");\n",
        "\n",
        "\n",
        "plt.figure();\n",
        "plt.plot(list(silhouettes.keys()), list(silhouettes.values()));\n",
        "plt.title('K-Means, Elbow Method')\n",
        "plt.xlabel(\"Number of clusters, K\");\n",
        "plt.ylabel(\"Silhouette\");\n"
      ],
      "metadata": {
        "colab": {
          "base_uri": "https://localhost:8080/",
          "height": 696
        },
        "id": "UKCKnZKJGgt1",
        "outputId": "1a398126-6b85-4c88-9ac4-6becfe2cdff9"
      },
      "execution_count": null,
      "outputs": [
        {
          "output_type": "display_data",
          "data": {
            "image/png": "[encoded data removed]",
            "text/plain": [
              "<Figure size 576x360 with 1 Axes>"
            ]
          },
          "metadata": {
            "needs_background": "light"
          }
        },
        {
          "output_type": "display_data",
          "data": {
            "image/png": "[encoded data removed]",
            "text/plain": [
              "<Figure size 576x360 with 1 Axes>"
            ]
          },
          "metadata": {
            "needs_background": "light"
          }
        }
      ]
    },
    {
      "cell_type": "markdown",
      "source": [
        "Decide to use k=5"
      ],
      "metadata": {
        "id": "hDoiXlNIG4GG"
      }
    },
    {
      "cell_type": "code",
      "source": [
        "# Using K-Means Clustering with k=5\n",
        "k_means2 = KMeans(n_clusters = 5, random_state = 42)\n",
        "k_means2.fit(X)"
      ],
      "metadata": {
        "colab": {
          "base_uri": "https://localhost:8080/"
        },
        "id": "C0RHCVk4G7Qy",
        "outputId": "c0705815-bf5c-4434-ed09-7b9fceb10084"
      },
      "execution_count": null,
      "outputs": [
        {
          "output_type": "execute_result",
          "data": {
            "text/plain": [
              "KMeans(n_clusters=5, random_state=42)"
            ]
          },
          "metadata": {},
          "execution_count": 21
        }
      ]
    },
    {
      "cell_type": "code",
      "source": [
        "label_2 = k_means2.labels_\n",
        "label_2"
      ],
      "metadata": {
        "colab": {
          "base_uri": "https://localhost:8080/"
        },
        "id": "n5ioIwrBJYzU",
        "outputId": "da892ee8-b1a1-4cc3-f5d3-f53818e90fbd"
      },
      "execution_count": null,
      "outputs": [
        {
          "output_type": "execute_result",
          "data": {
            "text/plain": [
              "array([1, 1, 1, 1, 2, 3, 1, 2, 2, 2, 4, 0, 0, 0, 1, 4, 1, 2, 2, 4, 0, 4,\n",
              "       1, 2, 4, 3, 3, 1, 2, 1, 1, 1, 2, 1, 0, 1, 2, 1, 0, 0, 1, 2, 3, 1,\n",
              "       1, 3, 4, 3, 0, 1, 2, 0, 3, 2, 1, 2, 0, 2, 2, 2, 2, 2, 2, 1, 1, 1,\n",
              "       2, 3, 3, 1, 1, 0, 2, 2, 0, 1, 0, 1, 1, 3, 1, 4, 1, 2, 2, 0, 0, 1,\n",
              "       1, 1, 1, 1, 3, 2, 1, 3, 0, 1, 1, 0, 0, 3, 0, 3, 0, 2, 2, 0, 0, 1,\n",
              "       2, 0, 1, 0, 0, 0, 1, 0, 3, 2, 0, 2, 2, 2, 0, 4, 1, 2, 1, 1, 0, 1,\n",
              "       0, 1, 3, 2, 4, 3, 1, 0, 2, 1, 1, 3, 1, 3, 1, 4, 1, 2, 1, 0, 2, 1,\n",
              "       2, 4, 0, 1, 2, 1, 0, 2, 1, 0, 2, 0, 2, 1, 0, 1, 2, 1, 0, 1, 2, 1,\n",
              "       1, 2, 2, 2, 1, 1, 0, 3, 3, 2, 0, 1, 1, 1, 0, 2, 1, 1, 1, 2, 3, 0,\n",
              "       2, 2, 2, 0, 1, 0, 1, 0, 1, 2, 3, 1, 2, 2, 2, 2, 1, 2, 0, 3, 0, 2,\n",
              "       1, 1, 0, 2, 0, 3, 0, 1, 1, 2, 1, 1, 2, 1, 1, 1, 0, 1, 0, 0, 3, 1,\n",
              "       1, 1, 4, 1, 0, 2, 3, 3, 3, 2, 1, 0, 2, 2, 0, 0, 1, 1, 4, 1, 1, 2,\n",
              "       1, 2, 0, 3, 1, 0, 2, 1, 2, 2, 0, 1, 2, 2, 1, 1, 2, 0, 0, 4, 0, 2,\n",
              "       2, 0, 4, 2, 2, 3, 1, 0, 0, 1, 0, 2, 2, 0, 1, 0, 2, 1, 0, 3, 1, 2,\n",
              "       0, 0, 2, 4, 4, 1, 2, 0, 1, 1, 2, 0, 2, 0, 2, 0, 2, 2, 0, 2, 0, 1,\n",
              "       0, 1, 1, 0, 0, 2, 2, 3, 3, 0, 2, 3, 2, 4, 1, 1, 1, 2, 2, 0, 0, 4,\n",
              "       0, 4, 1, 0, 3, 2, 1, 2, 3, 1, 2, 2, 1, 2, 0, 1, 4, 0, 0, 1, 2, 2,\n",
              "       2, 2, 2, 0, 0, 2, 1, 0, 1, 4, 2, 2, 1, 2, 2, 1, 2, 2, 0, 2, 1, 0,\n",
              "       3, 0, 1, 2, 0, 1, 1, 1, 2, 0, 3, 0, 1, 0, 1, 1, 3, 0, 4, 3, 0, 0,\n",
              "       2, 1, 2, 0, 2, 0, 1, 1, 2, 4, 0, 2, 0, 1, 1, 0, 1, 2, 1, 0, 1, 2,\n",
              "       1, 2, 3, 0, 0, 3, 0, 0, 2, 2, 1, 3, 1, 0, 0, 4, 3, 0, 3, 2, 0, 0,\n",
              "       1, 0, 2, 2, 3, 1, 0, 1, 1, 0, 1, 1, 1, 2, 0, 0, 1, 1, 1, 2, 0, 2,\n",
              "       2, 2, 2, 3, 2, 2, 2, 1, 1, 2, 2, 1, 3, 2, 0, 3, 0, 2, 2, 2, 2],\n",
              "      dtype=int32)"
            ]
          },
          "metadata": {},
          "execution_count": 22
        }
      ]
    },
    {
      "cell_type": "code",
      "source": [
        "k_means2.cluster_centers_"
      ],
      "metadata": {
        "colab": {
          "base_uri": "https://localhost:8080/"
        },
        "id": "yYGG2mZJJhbk",
        "outputId": "62a5a0e6-4ba8-4282-f2aa-58e17a01d51e"
      },
      "execution_count": null,
      "outputs": [
        {
          "output_type": "execute_result",
          "data": {
            "text/plain": [
              "array([[-1.08815238,  0.82744102, -0.75240648,  0.6270464 ],\n",
              "       [ 0.03879611, -0.08524639,  1.02721559, -1.00569483],\n",
              "       [ 1.19238486, -1.32510593, -0.67963841,  0.97016358],\n",
              "       [-1.44466803,  1.46050665,  1.51057952, -1.57249636],\n",
              "       [ 1.11876151,  1.23565419, -1.68367042,  0.59588052]])"
            ]
          },
          "metadata": {},
          "execution_count": 23
        }
      ]
    },
    {
      "cell_type": "code",
      "source": [
        "#Check silhouette score and ch\n",
        "sil2 = silhouette_score(X, label_2,  metric='euclidean')\n",
        "ch2 = calinski_harabasz_score(X, label_2)\n",
        "\n",
        "print(sil2)\n",
        "print(ch2)"
      ],
      "metadata": {
        "colab": {
          "base_uri": "https://localhost:8080/"
        },
        "id": "JXRmelW0Jkx3",
        "outputId": "e88fb905-bc05-41f6-c33e-a928a86b444a"
      },
      "execution_count": null,
      "outputs": [
        {
          "output_type": "stream",
          "name": "stdout",
          "text": [
            "0.8048976287755765\n",
            "3671.358018517615\n"
          ]
        }
      ]
    },
    {
      "cell_type": "markdown",
      "source": [
        "Use improved clustering model with k=5"
      ],
      "metadata": {
        "id": "oiaPu2uMJwpY"
      }
    },
    {
      "cell_type": "code",
      "source": [
        "#cluster means with inverse transform\n",
        "k_means_personas = pd.DataFrame(scaler.inverse_transform(k_means2.cluster_centers_),columns=['Age','Income','Spending Score','Savings'])\n",
        "k_means_personas"
      ],
      "metadata": {
        "colab": {
          "base_uri": "https://localhost:8080/",
          "height": 206
        },
        "id": "rGZoVM3mg8fN",
        "outputId": "ceb9fb6f-d7e0-4d61-9972-b9bb72adbd7d"
      },
      "execution_count": null,
      "outputs": [
        {
          "output_type": "execute_result",
          "data": {
            "text/html": [
              "<div>\n",
              "<style scoped>\n",
              "    .dataframe tbody tr th:only-of-type {\n",
              "        vertical-align: middle;\n",
              "    }\n",
              "\n",
              "    .dataframe tbody tr th {\n",
              "        vertical-align: top;\n",
              "    }\n",
              "\n",
              "    .dataframe thead th {\n",
              "        text-align: right;\n",
              "    }\n",
              "</style>\n",
              "<table border=\"1\" class=\"dataframe\">\n",
              "  <thead>\n",
              "    <tr style=\"text-align: right;\">\n",
              "      <th></th>\n",
              "      <th>Age</th>\n",
              "      <th>Income</th>\n",
              "      <th>Spending Score</th>\n",
              "      <th>Savings</th>\n",
              "    </tr>\n",
              "  </thead>\n",
              "  <tbody>\n",
              "    <tr>\n",
              "      <th>0</th>\n",
              "      <td>32.777778</td>\n",
              "      <td>105265.809524</td>\n",
              "      <td>0.309926</td>\n",
              "      <td>14962.778066</td>\n",
              "    </tr>\n",
              "    <tr>\n",
              "      <th>1</th>\n",
              "      <td>59.955414</td>\n",
              "      <td>72448.063694</td>\n",
              "      <td>0.771518</td>\n",
              "      <td>6889.972190</td>\n",
              "    </tr>\n",
              "    <tr>\n",
              "      <th>2</th>\n",
              "      <td>87.775510</td>\n",
              "      <td>27866.102041</td>\n",
              "      <td>0.328800</td>\n",
              "      <td>16659.261445</td>\n",
              "    </tr>\n",
              "    <tr>\n",
              "      <th>3</th>\n",
              "      <td>24.180000</td>\n",
              "      <td>128029.120000</td>\n",
              "      <td>0.896892</td>\n",
              "      <td>4087.520309</td>\n",
              "    </tr>\n",
              "    <tr>\n",
              "      <th>4</th>\n",
              "      <td>86.000000</td>\n",
              "      <td>119944.040000</td>\n",
              "      <td>0.068378</td>\n",
              "      <td>14808.683793</td>\n",
              "    </tr>\n",
              "  </tbody>\n",
              "</table>\n",
              "</div>"
            ],
            "text/plain": [
              "         Age         Income  Spending Score       Savings\n",
              "0  32.777778  105265.809524        0.309926  14962.778066\n",
              "1  59.955414   72448.063694        0.771518   6889.972190\n",
              "2  87.775510   27866.102041        0.328800  16659.261445\n",
              "3  24.180000  128029.120000        0.896892   4087.520309\n",
              "4  86.000000  119944.040000        0.068378  14808.683793"
            ]
          },
          "metadata": {},
          "execution_count": 25
        }
      ]
    },
    {
      "cell_type": "code",
      "source": [
        "#Example instances - personas\n",
        "np.set_printoptions(suppress=True)\n",
        "\n",
        "for label in set(label_2):\n",
        "    print('\\nCluster {}:'.format(label))\n",
        "    print(scaler.inverse_transform(X[label_2==label].head()))"
      ],
      "metadata": {
        "colab": {
          "base_uri": "https://localhost:8080/"
        },
        "id": "-RxFWdRMkmjm",
        "outputId": "5a091a81-333b-45c6-bc3d-cda60de7d30b"
      },
      "execution_count": null,
      "outputs": [
        {
          "output_type": "stream",
          "name": "stdout",
          "text": [
            "\n",
            "Cluster 0:\n",
            "[[    36.          99780.              0.26543261  16398.40133318]\n",
            " [    30.          99949.              0.34467922  13621.63972633]\n",
            " [    31.         107963.              0.29050863  13407.08139103]\n",
            " [    30.         101073.              0.31438712  14324.55597712]\n",
            " [    33.         101058.              0.31508155  14911.86839821]]\n",
            "\n",
            "Cluster 1:\n",
            "[[   58.         77769.             0.79132878  6559.829923  ]\n",
            " [   59.         81799.             0.79108205  5417.6614262 ]\n",
            " [   62.         74751.             0.70265695  9258.99296503]\n",
            " [   59.         74373.             0.76567956  7346.33450354]\n",
            " [   54.         76500.             0.78519785  6878.88424855]]\n",
            "\n",
            "Cluster 2:\n",
            "[[   87.         17760.             0.34877755 16869.5071303 ]\n",
            " [   87.         42592.             0.35528968 18086.28715786]\n",
            " [   83.         34384.             0.32471868 14783.37908579]\n",
            " [   84.         27693.             0.36706297 17879.55890555]\n",
            " [   87.         31481.             0.31742397 16180.68808203]]\n",
            "\n",
            "Cluster 3:\n",
            "[[    29.         131578.              0.8470341    3535.51435222]\n",
            " [    30.         122788.              0.87287241   5706.1495733 ]\n",
            " [    17.         134966.              0.90724217   4128.04479583]\n",
            " [    20.         129142.              0.88705199   5603.12102775]\n",
            " [    18.         130813.              0.89089125   5256.43455963]]\n",
            "\n",
            "Cluster 4:\n",
            "[[    85.         111389.              0.03679536  16009.23776292]\n",
            " [    92.         122879.              0.06072404  13709.67027452]\n",
            " [    88.         120678.              0.06327285  14264.47384664]\n",
            " [    84.         122696.              0.08218683  13809.7340867 ]\n",
            " [    89.         119697.              0.0916792   16215.39907656]]\n"
          ]
        }
      ]
    },
    {
      "cell_type": "code",
      "source": [
        "#Feature Stats for each cluster\n",
        "\n",
        "Q1X1_df = pd.DataFrame(scaler.inverse_transform(X), columns=['Age','Income','Spending Score','Savings'])\n",
        "Q1X1_df['Cluster'] = label_2\n",
        "\n",
        "cl_group = Q1X1_df.groupby(['Cluster']).agg('describe')\n",
        "\n",
        "cl_group['Age']\n",
        "cl_group['Income']\n",
        "cl_group['Spending Score']\n",
        "cl_group['Savings']"
      ],
      "metadata": {
        "colab": {
          "base_uri": "https://localhost:8080/",
          "height": 898
        },
        "id": "1e3tnA02oAVE",
        "outputId": "6c31d8d9-d026-4cdb-cc54-70d304ff3383"
      },
      "execution_count": null,
      "outputs": [
        {
          "output_type": "execute_result",
          "data": {
            "text/html": [
              "<div>\n",
              "<style scoped>\n",
              "    .dataframe tbody tr th:only-of-type {\n",
              "        vertical-align: middle;\n",
              "    }\n",
              "\n",
              "    .dataframe tbody tr th {\n",
              "        vertical-align: top;\n",
              "    }\n",
              "\n",
              "    .dataframe thead th {\n",
              "        text-align: right;\n",
              "    }\n",
              "</style>\n",
              "<table border=\"1\" class=\"dataframe\">\n",
              "  <thead>\n",
              "    <tr style=\"text-align: right;\">\n",
              "      <th></th>\n",
              "      <th>count</th>\n",
              "      <th>mean</th>\n",
              "      <th>std</th>\n",
              "      <th>min</th>\n",
              "      <th>25%</th>\n",
              "      <th>50%</th>\n",
              "      <th>75%</th>\n",
              "      <th>max</th>\n",
              "    </tr>\n",
              "    <tr>\n",
              "      <th>Cluster</th>\n",
              "      <th></th>\n",
              "      <th></th>\n",
              "      <th></th>\n",
              "      <th></th>\n",
              "      <th></th>\n",
              "      <th></th>\n",
              "      <th></th>\n",
              "      <th></th>\n",
              "    </tr>\n",
              "  </thead>\n",
              "  <tbody>\n",
              "    <tr>\n",
              "      <th>0</th>\n",
              "      <td>126.0</td>\n",
              "      <td>32.777778</td>\n",
              "      <td>3.792390</td>\n",
              "      <td>22.0</td>\n",
              "      <td>30.0</td>\n",
              "      <td>33.0</td>\n",
              "      <td>35.0</td>\n",
              "      <td>44.0</td>\n",
              "    </tr>\n",
              "    <tr>\n",
              "      <th>1</th>\n",
              "      <td>157.0</td>\n",
              "      <td>59.955414</td>\n",
              "      <td>3.376662</td>\n",
              "      <td>51.0</td>\n",
              "      <td>58.0</td>\n",
              "      <td>59.0</td>\n",
              "      <td>62.0</td>\n",
              "      <td>68.0</td>\n",
              "    </tr>\n",
              "    <tr>\n",
              "      <th>2</th>\n",
              "      <td>147.0</td>\n",
              "      <td>87.775510</td>\n",
              "      <td>3.508885</td>\n",
              "      <td>79.0</td>\n",
              "      <td>85.0</td>\n",
              "      <td>88.0</td>\n",
              "      <td>91.0</td>\n",
              "      <td>97.0</td>\n",
              "    </tr>\n",
              "    <tr>\n",
              "      <th>3</th>\n",
              "      <td>50.0</td>\n",
              "      <td>24.180000</td>\n",
              "      <td>3.662775</td>\n",
              "      <td>17.0</td>\n",
              "      <td>22.0</td>\n",
              "      <td>24.5</td>\n",
              "      <td>27.0</td>\n",
              "      <td>31.0</td>\n",
              "    </tr>\n",
              "    <tr>\n",
              "      <th>4</th>\n",
              "      <td>25.0</td>\n",
              "      <td>86.000000</td>\n",
              "      <td>3.662877</td>\n",
              "      <td>77.0</td>\n",
              "      <td>84.0</td>\n",
              "      <td>86.0</td>\n",
              "      <td>88.0</td>\n",
              "      <td>93.0</td>\n",
              "    </tr>\n",
              "  </tbody>\n",
              "</table>\n",
              "</div>"
            ],
            "text/plain": [
              "         count       mean       std   min   25%   50%   75%   max\n",
              "Cluster                                                          \n",
              "0        126.0  32.777778  3.792390  22.0  30.0  33.0  35.0  44.0\n",
              "1        157.0  59.955414  3.376662  51.0  58.0  59.0  62.0  68.0\n",
              "2        147.0  87.775510  3.508885  79.0  85.0  88.0  91.0  97.0\n",
              "3         50.0  24.180000  3.662775  17.0  22.0  24.5  27.0  31.0\n",
              "4         25.0  86.000000  3.662877  77.0  84.0  86.0  88.0  93.0"
            ]
          },
          "metadata": {},
          "execution_count": 27
        },
        {
          "output_type": "execute_result",
          "data": {
            "text/html": [
              "<div>\n",
              "<style scoped>\n",
              "    .dataframe tbody tr th:only-of-type {\n",
              "        vertical-align: middle;\n",
              "    }\n",
              "\n",
              "    .dataframe tbody tr th {\n",
              "        vertical-align: top;\n",
              "    }\n",
              "\n",
              "    .dataframe thead th {\n",
              "        text-align: right;\n",
              "    }\n",
              "</style>\n",
              "<table border=\"1\" class=\"dataframe\">\n",
              "  <thead>\n",
              "    <tr style=\"text-align: right;\">\n",
              "      <th></th>\n",
              "      <th>count</th>\n",
              "      <th>mean</th>\n",
              "      <th>std</th>\n",
              "      <th>min</th>\n",
              "      <th>25%</th>\n",
              "      <th>50%</th>\n",
              "      <th>75%</th>\n",
              "      <th>max</th>\n",
              "    </tr>\n",
              "    <tr>\n",
              "      <th>Cluster</th>\n",
              "      <th></th>\n",
              "      <th></th>\n",
              "      <th></th>\n",
              "      <th></th>\n",
              "      <th></th>\n",
              "      <th></th>\n",
              "      <th></th>\n",
              "      <th></th>\n",
              "    </tr>\n",
              "  </thead>\n",
              "  <tbody>\n",
              "    <tr>\n",
              "      <th>0</th>\n",
              "      <td>126.0</td>\n",
              "      <td>105265.809524</td>\n",
              "      <td>6080.621753</td>\n",
              "      <td>89598.0</td>\n",
              "      <td>100760.25</td>\n",
              "      <td>106002.5</td>\n",
              "      <td>108858.75</td>\n",
              "      <td>119877.0</td>\n",
              "    </tr>\n",
              "    <tr>\n",
              "      <th>1</th>\n",
              "      <td>157.0</td>\n",
              "      <td>72448.063694</td>\n",
              "      <td>6240.260008</td>\n",
              "      <td>56321.0</td>\n",
              "      <td>68463.00</td>\n",
              "      <td>72027.0</td>\n",
              "      <td>76594.00</td>\n",
              "      <td>90422.0</td>\n",
              "    </tr>\n",
              "    <tr>\n",
              "      <th>2</th>\n",
              "      <td>147.0</td>\n",
              "      <td>27866.102041</td>\n",
              "      <td>6448.805481</td>\n",
              "      <td>12000.0</td>\n",
              "      <td>23361.00</td>\n",
              "      <td>27771.0</td>\n",
              "      <td>32601.00</td>\n",
              "      <td>46977.0</td>\n",
              "    </tr>\n",
              "    <tr>\n",
              "      <th>3</th>\n",
              "      <td>50.0</td>\n",
              "      <td>128029.120000</td>\n",
              "      <td>5688.904656</td>\n",
              "      <td>117108.0</td>\n",
              "      <td>123042.00</td>\n",
              "      <td>128162.0</td>\n",
              "      <td>131435.75</td>\n",
              "      <td>142000.0</td>\n",
              "    </tr>\n",
              "    <tr>\n",
              "      <th>4</th>\n",
              "      <td>25.0</td>\n",
              "      <td>119944.040000</td>\n",
              "      <td>4941.052254</td>\n",
              "      <td>110582.0</td>\n",
              "      <td>117347.00</td>\n",
              "      <td>119429.0</td>\n",
              "      <td>123651.00</td>\n",
              "      <td>128596.0</td>\n",
              "    </tr>\n",
              "  </tbody>\n",
              "</table>\n",
              "</div>"
            ],
            "text/plain": [
              "         count           mean          std  ...       50%        75%       max\n",
              "Cluster                                     ...                               \n",
              "0        126.0  105265.809524  6080.621753  ...  106002.5  108858.75  119877.0\n",
              "1        157.0   72448.063694  6240.260008  ...   72027.0   76594.00   90422.0\n",
              "2        147.0   27866.102041  6448.805481  ...   27771.0   32601.00   46977.0\n",
              "3         50.0  128029.120000  5688.904656  ...  128162.0  131435.75  142000.0\n",
              "4         25.0  119944.040000  4941.052254  ...  119429.0  123651.00  128596.0\n",
              "\n",
              "[5 rows x 8 columns]"
            ]
          },
          "metadata": {},
          "execution_count": 27
        },
        {
          "output_type": "execute_result",
          "data": {
            "text/html": [
              "<div>\n",
              "<style scoped>\n",
              "    .dataframe tbody tr th:only-of-type {\n",
              "        vertical-align: middle;\n",
              "    }\n",
              "\n",
              "    .dataframe tbody tr th {\n",
              "        vertical-align: top;\n",
              "    }\n",
              "\n",
              "    .dataframe thead th {\n",
              "        text-align: right;\n",
              "    }\n",
              "</style>\n",
              "<table border=\"1\" class=\"dataframe\">\n",
              "  <thead>\n",
              "    <tr style=\"text-align: right;\">\n",
              "      <th></th>\n",
              "      <th>count</th>\n",
              "      <th>mean</th>\n",
              "      <th>std</th>\n",
              "      <th>min</th>\n",
              "      <th>25%</th>\n",
              "      <th>50%</th>\n",
              "      <th>75%</th>\n",
              "      <th>max</th>\n",
              "    </tr>\n",
              "    <tr>\n",
              "      <th>Cluster</th>\n",
              "      <th></th>\n",
              "      <th></th>\n",
              "      <th></th>\n",
              "      <th></th>\n",
              "      <th></th>\n",
              "      <th></th>\n",
              "      <th></th>\n",
              "      <th></th>\n",
              "    </tr>\n",
              "  </thead>\n",
              "  <tbody>\n",
              "    <tr>\n",
              "      <th>0</th>\n",
              "      <td>126.0</td>\n",
              "      <td>0.309926</td>\n",
              "      <td>0.045513</td>\n",
              "      <td>0.174120</td>\n",
              "      <td>0.281237</td>\n",
              "      <td>0.309479</td>\n",
              "      <td>0.341096</td>\n",
              "      <td>0.411112</td>\n",
              "    </tr>\n",
              "    <tr>\n",
              "      <th>1</th>\n",
              "      <td>157.0</td>\n",
              "      <td>0.771518</td>\n",
              "      <td>0.046058</td>\n",
              "      <td>0.657314</td>\n",
              "      <td>0.740367</td>\n",
              "      <td>0.766720</td>\n",
              "      <td>0.800598</td>\n",
              "      <td>0.910417</td>\n",
              "    </tr>\n",
              "    <tr>\n",
              "      <th>2</th>\n",
              "      <td>147.0</td>\n",
              "      <td>0.328800</td>\n",
              "      <td>0.045224</td>\n",
              "      <td>0.203140</td>\n",
              "      <td>0.301502</td>\n",
              "      <td>0.324719</td>\n",
              "      <td>0.357267</td>\n",
              "      <td>0.473550</td>\n",
              "    </tr>\n",
              "    <tr>\n",
              "      <th>3</th>\n",
              "      <td>50.0</td>\n",
              "      <td>0.896892</td>\n",
              "      <td>0.043466</td>\n",
              "      <td>0.806553</td>\n",
              "      <td>0.871957</td>\n",
              "      <td>0.890676</td>\n",
              "      <td>0.926473</td>\n",
              "      <td>1.000000</td>\n",
              "    </tr>\n",
              "    <tr>\n",
              "      <th>4</th>\n",
              "      <td>25.0</td>\n",
              "      <td>0.068378</td>\n",
              "      <td>0.039744</td>\n",
              "      <td>0.000000</td>\n",
              "      <td>0.036795</td>\n",
              "      <td>0.063273</td>\n",
              "      <td>0.082723</td>\n",
              "      <td>0.155694</td>\n",
              "    </tr>\n",
              "  </tbody>\n",
              "</table>\n",
              "</div>"
            ],
            "text/plain": [
              "         count      mean       std  ...       50%       75%       max\n",
              "Cluster                             ...                              \n",
              "0        126.0  0.309926  0.045513  ...  0.309479  0.341096  0.411112\n",
              "1        157.0  0.771518  0.046058  ...  0.766720  0.800598  0.910417\n",
              "2        147.0  0.328800  0.045224  ...  0.324719  0.357267  0.473550\n",
              "3         50.0  0.896892  0.043466  ...  0.890676  0.926473  1.000000\n",
              "4         25.0  0.068378  0.039744  ...  0.063273  0.082723  0.155694\n",
              "\n",
              "[5 rows x 8 columns]"
            ]
          },
          "metadata": {},
          "execution_count": 27
        },
        {
          "output_type": "execute_result",
          "data": {
            "text/html": [
              "<div>\n",
              "<style scoped>\n",
              "    .dataframe tbody tr th:only-of-type {\n",
              "        vertical-align: middle;\n",
              "    }\n",
              "\n",
              "    .dataframe tbody tr th {\n",
              "        vertical-align: top;\n",
              "    }\n",
              "\n",
              "    .dataframe thead th {\n",
              "        text-align: right;\n",
              "    }\n",
              "</style>\n",
              "<table border=\"1\" class=\"dataframe\">\n",
              "  <thead>\n",
              "    <tr style=\"text-align: right;\">\n",
              "      <th></th>\n",
              "      <th>count</th>\n",
              "      <th>mean</th>\n",
              "      <th>std</th>\n",
              "      <th>min</th>\n",
              "      <th>25%</th>\n",
              "      <th>50%</th>\n",
              "      <th>75%</th>\n",
              "      <th>max</th>\n",
              "    </tr>\n",
              "    <tr>\n",
              "      <th>Cluster</th>\n",
              "      <th></th>\n",
              "      <th></th>\n",
              "      <th></th>\n",
              "      <th></th>\n",
              "      <th></th>\n",
              "      <th></th>\n",
              "      <th></th>\n",
              "      <th></th>\n",
              "    </tr>\n",
              "  </thead>\n",
              "  <tbody>\n",
              "    <tr>\n",
              "      <th>0</th>\n",
              "      <td>126.0</td>\n",
              "      <td>14962.778066</td>\n",
              "      <td>1061.734017</td>\n",
              "      <td>12207.526078</td>\n",
              "      <td>14223.787562</td>\n",
              "      <td>14976.943192</td>\n",
              "      <td>15682.288845</td>\n",
              "      <td>17968.553929</td>\n",
              "    </tr>\n",
              "    <tr>\n",
              "      <th>1</th>\n",
              "      <td>157.0</td>\n",
              "      <td>6889.972190</td>\n",
              "      <td>1052.276354</td>\n",
              "      <td>4077.658657</td>\n",
              "      <td>6225.376082</td>\n",
              "      <td>6845.056822</td>\n",
              "      <td>7497.231607</td>\n",
              "      <td>10547.775368</td>\n",
              "    </tr>\n",
              "    <tr>\n",
              "      <th>2</th>\n",
              "      <td>147.0</td>\n",
              "      <td>16659.261445</td>\n",
              "      <td>1183.850178</td>\n",
              "      <td>13470.970605</td>\n",
              "      <td>15957.282919</td>\n",
              "      <td>16711.067980</td>\n",
              "      <td>17433.126684</td>\n",
              "      <td>20000.000000</td>\n",
              "    </tr>\n",
              "    <tr>\n",
              "      <th>3</th>\n",
              "      <td>50.0</td>\n",
              "      <td>4087.520309</td>\n",
              "      <td>1277.754801</td>\n",
              "      <td>0.000000</td>\n",
              "      <td>3275.320193</td>\n",
              "      <td>4361.967019</td>\n",
              "      <td>4986.863329</td>\n",
              "      <td>6089.478323</td>\n",
              "    </tr>\n",
              "    <tr>\n",
              "      <th>4</th>\n",
              "      <td>25.0</td>\n",
              "      <td>14808.683793</td>\n",
              "      <td>1159.339639</td>\n",
              "      <td>12554.692742</td>\n",
              "      <td>14047.388986</td>\n",
              "      <td>14773.407206</td>\n",
              "      <td>15391.952192</td>\n",
              "      <td>17833.093470</td>\n",
              "    </tr>\n",
              "  </tbody>\n",
              "</table>\n",
              "</div>"
            ],
            "text/plain": [
              "         count          mean  ...           75%           max\n",
              "Cluster                       ...                            \n",
              "0        126.0  14962.778066  ...  15682.288845  17968.553929\n",
              "1        157.0   6889.972190  ...   7497.231607  10547.775368\n",
              "2        147.0  16659.261445  ...  17433.126684  20000.000000\n",
              "3         50.0   4087.520309  ...   4986.863329   6089.478323\n",
              "4         25.0  14808.683793  ...  15391.952192  17833.093470\n",
              "\n",
              "[5 rows x 8 columns]"
            ]
          },
          "metadata": {},
          "execution_count": 27
        }
      ]
    },
    {
      "cell_type": "code",
      "source": [
        "#Relative Importance of Features\n",
        "\n",
        "col_names = df1.columns\n",
        "\n",
        "all_means = label_2.mean(axis=0)\n",
        "\n",
        "relative_imp = k_means2.cluster_centers_ - all_means\n",
        "\n",
        "plt.figure(figsize=(8, 4));\n",
        "plt.title('Relative importance of features');\n",
        "sns.heatmap(data=relative_imp, \n",
        "            annot=scaler.inverse_transform(relative_imp), \n",
        "            fmt='.2f', \n",
        "            cmap='RdYlGn', \n",
        "            robust=True, \n",
        "            square=False,\n",
        "            xticklabels=col_names, \n",
        "            yticklabels=['Cluster {}'.format(x) for x in range(5)]);"
      ],
      "metadata": {
        "colab": {
          "base_uri": "https://localhost:8080/",
          "height": 284
        },
        "id": "l-sVOiS7bIok",
        "outputId": "f2907fb1-659f-44fb-d0c7-4fbbf5de6a8d"
      },
      "execution_count": null,
      "outputs": [
        {
          "output_type": "display_data",
          "data": {
            "image/png": "[encoded data removed]",
            "text/plain": [
              "<Figure size 576x288 with 2 Axes>"
            ]
          },
          "metadata": {
            "needs_background": "light"
          }
        }
      ]
    },
    {
      "cell_type": "markdown",
      "metadata": {
        "id": "ihVtYBWg1NM6"
      },
      "source": [
        "## 1.2: Clustering Algorithm #2"
      ]
    },
    {
      "cell_type": "code",
      "metadata": {
        "id": "Pu2xugQj1Mci",
        "colab": {
          "base_uri": "https://localhost:8080/"
        },
        "outputId": "fa113d56-db12-409c-d24a-27dd9c9dc8f2"
      },
      "source": [
        "# Using DBSCAN with min_samples = 8 (4 features * 2)\n",
        "db = DBSCAN(eps=0.3, min_samples = 8)\n",
        "db.fit(X)"
      ],
      "execution_count": null,
      "outputs": [
        {
          "output_type": "execute_result",
          "data": {
            "text/plain": [
              "DBSCAN(eps=0.3, min_samples=8)"
            ]
          },
          "metadata": {},
          "execution_count": 29
        }
      ]
    },
    {
      "cell_type": "code",
      "source": [
        "label_3 = db.labels_\n",
        "label_3"
      ],
      "metadata": {
        "colab": {
          "base_uri": "https://localhost:8080/"
        },
        "id": "Xw3nup2BK45k",
        "outputId": "417abcce-b2a0-445d-eafb-b55a9ccbe1fe"
      },
      "execution_count": null,
      "outputs": [
        {
          "output_type": "execute_result",
          "data": {
            "text/plain": [
              "array([ 0,  0,  0,  0,  1,  4,  0,  1,  1,  1,  3,  2,  2,  2,  0,  3,  0,\n",
              "        1,  1,  3,  2,  3,  0,  1, -1,  4,  4,  0,  1,  0,  0,  0,  1,  0,\n",
              "        2,  0,  1,  0,  2,  2,  0,  1,  4,  0,  0,  4,  3,  4,  2,  0,  1,\n",
              "        2,  4,  1,  0,  1,  2,  1,  1,  1,  1,  1,  1,  0,  0,  0,  1,  4,\n",
              "        4,  0,  0,  2,  1,  1,  2,  0,  2,  0,  0,  4,  0, -1,  0,  1,  1,\n",
              "        2,  2,  0,  0,  0,  0,  0,  4,  1,  0,  4,  2,  0,  0,  2,  2,  4,\n",
              "        2,  4,  2,  1, -1,  2,  2,  0,  1,  2,  0,  2,  2,  2,  0,  2, -1,\n",
              "        1,  2,  1,  1,  1,  2,  3,  0,  1,  0,  0,  2,  0,  2,  0,  4,  1,\n",
              "        3,  4,  0,  2,  1,  0,  0,  4,  0,  4,  0,  3,  0,  1,  0,  2,  1,\n",
              "        0,  1,  3,  2,  0,  1,  0,  2,  1,  0,  2, -1,  2,  1,  0,  2,  0,\n",
              "        1,  0,  2,  0,  1,  0,  0,  1,  1,  1,  0,  0,  2,  4,  4,  1,  2,\n",
              "        0,  0,  0,  2,  1,  0,  0,  0,  1, -1,  2,  1,  1,  1,  2,  0,  2,\n",
              "        0,  2,  0,  1,  4,  0,  1,  1, -1,  1,  0,  1,  2,  4,  2,  1,  0,\n",
              "        0,  2,  1,  2,  4,  2,  0,  0,  1,  0,  0,  1,  0,  0,  0, -1,  0,\n",
              "        2,  2,  4,  0,  0,  0, -1,  0,  2,  1,  4, -1,  4,  1,  0,  2,  1,\n",
              "       -1,  2,  2,  0,  0,  3,  0,  0,  1,  0,  1,  2,  4,  0,  2,  1,  0,\n",
              "        1,  1,  2,  0,  1,  1,  0,  0,  1,  2,  2,  3,  2,  1,  1, -1,  3,\n",
              "        1, -1,  4,  0,  2,  2,  0,  2,  1,  1,  2,  0,  2,  1,  0,  2,  4,\n",
              "        0,  1,  2,  2,  1,  3, -1,  0,  1,  2,  0,  0,  1,  2,  1,  2,  1,\n",
              "        2,  1,  1,  2,  1,  2,  0,  2,  0,  0,  2,  2,  1,  1, -1,  4,  2,\n",
              "        1,  4,  1,  3,  0,  0,  0,  1,  1,  2,  2,  3,  2, -1,  0,  2,  4,\n",
              "        1,  0,  1,  4,  0,  1,  1,  0,  1,  2,  0,  3,  2,  2,  0,  1,  1,\n",
              "        1,  1,  1,  2,  2,  1,  0,  2,  0,  3,  1,  1,  0,  1,  1,  0,  1,\n",
              "        1,  2,  1,  0,  2,  4,  2,  0,  1,  2,  0,  0,  0,  1,  2,  4,  2,\n",
              "        0,  2,  0,  0,  4,  2,  3,  4,  2,  2,  1,  0,  1,  2, -1,  2,  0,\n",
              "        0,  1, -1,  2,  1,  2,  0,  0,  2,  0,  1,  0,  2,  0,  1,  0,  1,\n",
              "        4,  2,  2,  4,  2,  2,  1,  1,  0,  4,  0,  2, -1, -1,  4,  2,  4,\n",
              "        1,  2,  2,  0,  2,  1,  1, -1,  0,  2,  0,  0,  2,  0,  0,  0,  1,\n",
              "        2,  2,  0,  0,  0,  1,  2,  1,  1,  1,  1,  4,  1,  1,  1,  0,  0,\n",
              "        1,  1,  0,  4,  1,  2,  4,  2, -1,  1,  1,  1])"
            ]
          },
          "metadata": {},
          "execution_count": 30
        }
      ]
    },
    {
      "cell_type": "code",
      "source": [
        "sil3 = silhouette_score(X, label_3)\n",
        "ch3 = calinski_harabasz_score(X, label_3)\n",
        "\n",
        "print(sil3)\n",
        "print(ch3)"
      ],
      "metadata": {
        "colab": {
          "base_uri": "https://localhost:8080/"
        },
        "id": "GNuK5bGjLAZW",
        "outputId": "2f73837f-06cc-4890-924e-0bb7b457413a"
      },
      "execution_count": null,
      "outputs": [
        {
          "output_type": "stream",
          "name": "stdout",
          "text": [
            "0.7397673147962858\n",
            "996.8843778962829\n"
          ]
        }
      ]
    },
    {
      "cell_type": "code",
      "source": [
        "#DBSCAN hyperparameter tuning with Elbow Method\n",
        "silhouettes = {}\n",
        "\n",
        "epss = np.arange(0.1, 0.9, 0.1)\n",
        "minss = [3, 4, 5, 6, 7, 8, 9, 10]\n",
        "\n",
        "ss = np.zeros((len(epss), len(minss)))\n",
        "\n",
        "for i, eps in enumerate(epss):\n",
        "    for j, mins in enumerate(minss):\n",
        "        db = DBSCAN(eps=eps, min_samples=mins).fit(X)\n",
        "        if len(set(db.labels_)) == 1:\n",
        "            ss[i, j] = -1\n",
        "        else:\n",
        "            ss[i, j] = silhouette_score(X, db.labels_, metric='euclidean')\n",
        "    \n",
        "\n",
        "plt.figure();\n",
        "for i in range(len(minss)):\n",
        "    plt.plot(epss, ss[:, i], label=\"MinPts = {}\".format(minss[i]));\n",
        "plt.title('DBSCAN, Elbow Method')\n",
        "plt.xlabel(\"Eps\");\n",
        "plt.ylabel(\"Silhouette\");\n",
        "plt.legend();"
      ],
      "metadata": {
        "colab": {
          "base_uri": "https://localhost:8080/",
          "height": 356
        },
        "id": "yqVjYZhnOex7",
        "outputId": "4dd512a3-b7cc-4b49-95c6-8d9e226eccfd"
      },
      "execution_count": null,
      "outputs": [
        {
          "output_type": "display_data",
          "data": {
            "image/png": "[encoded data removed]",
            "text/plain": [
              "<Figure size 576x360 with 1 Axes>"
            ]
          },
          "metadata": {
            "needs_background": "light"
          }
        }
      ]
    },
    {
      "cell_type": "markdown",
      "source": [
        "Decide to use eps = 0.4, and keep min_samples = 8"
      ],
      "metadata": {
        "id": "slv4InEtPStv"
      }
    },
    {
      "cell_type": "code",
      "source": [
        "# Using DBSCAN with min_samples = 8 (4 features * 2) and eps = 0.4\n",
        "db2 = DBSCAN(eps=0.4, min_samples = 8)\n",
        "db2.fit(X)"
      ],
      "metadata": {
        "colab": {
          "base_uri": "https://localhost:8080/"
        },
        "id": "SvFC7ukIPU_7",
        "outputId": "ca5b5563-ecd3-40a6-a40e-38953174e15a"
      },
      "execution_count": null,
      "outputs": [
        {
          "output_type": "execute_result",
          "data": {
            "text/plain": [
              "DBSCAN(eps=0.4, min_samples=8)"
            ]
          },
          "metadata": {},
          "execution_count": 33
        }
      ]
    },
    {
      "cell_type": "code",
      "source": [
        "label_4 = db2.labels_\n",
        "label_4"
      ],
      "metadata": {
        "colab": {
          "base_uri": "https://localhost:8080/"
        },
        "id": "xoqyea7tPnia",
        "outputId": "0037e4d7-b98b-46b3-fde8-3f8b426c946e"
      },
      "execution_count": null,
      "outputs": [
        {
          "output_type": "execute_result",
          "data": {
            "text/plain": [
              "array([ 0,  0,  0,  0,  1,  2,  0,  1,  1,  1,  3,  4,  4,  4,  0,  3,  0,\n",
              "        1,  1,  3,  4,  3,  0,  1,  3,  2,  2,  0,  1,  0,  0,  0,  1,  0,\n",
              "        4,  0,  1,  0,  4,  4,  0,  1,  2,  0,  0,  2,  3,  2,  4,  0,  1,\n",
              "        4,  2,  1,  0,  1,  4,  1,  1,  1,  1,  1,  1,  0,  0,  0,  1,  2,\n",
              "        2,  0,  0,  4,  1,  1,  4,  0,  4,  0,  0,  2,  0,  3,  0,  1,  1,\n",
              "        4,  4,  0,  0,  0,  0,  0,  2,  1,  0,  2,  4,  0,  0,  4,  4,  2,\n",
              "        4,  2,  4,  1, -1,  4,  4,  0,  1,  4,  0,  4,  4,  4,  0,  4,  2,\n",
              "        1,  4,  1,  1,  1,  4,  3,  0,  1,  0,  0,  4,  0,  4,  0,  2,  1,\n",
              "        3,  2,  0,  4,  1,  0,  0,  2,  0,  2,  0,  3,  0,  1,  0,  4,  1,\n",
              "        0,  1,  3,  4,  0,  1,  0,  4,  1,  0,  4,  1,  4,  1,  0,  4,  0,\n",
              "        1,  0,  4,  0,  1,  0,  0,  1,  1,  1,  0,  0,  4,  2,  2,  1,  4,\n",
              "        0,  0,  0,  4,  1,  0,  0,  0,  1,  2,  4,  1,  1,  1,  4,  0,  4,\n",
              "        0,  4,  0,  1,  2,  0,  1,  1,  1,  1,  0,  1,  4,  2,  4,  1,  0,\n",
              "        0,  4,  1,  4,  2,  4,  0,  0,  1,  0,  0,  1,  0,  0,  0,  4,  0,\n",
              "        4,  4,  2,  0,  0,  0,  3,  0,  4,  1,  2,  2,  2,  1,  0,  4,  1,\n",
              "        1,  4,  4,  0,  0,  3,  0,  0,  1,  0,  1,  4,  2,  0,  4,  1,  0,\n",
              "        1,  1,  4,  0,  1,  1,  0,  0,  1,  4,  4,  3,  4,  1,  1,  4,  3,\n",
              "        1,  1,  2,  0,  4,  4,  0,  4,  1,  1,  4,  0,  4,  1,  0,  4,  2,\n",
              "        0,  1,  4,  4,  1,  3, -1,  0,  1,  4,  0,  0,  1,  4,  1,  4,  1,\n",
              "        4,  1,  1,  4,  1,  4,  0,  4,  0,  0,  4,  4,  1,  1, -1,  2,  4,\n",
              "        1,  2,  1,  3,  0,  0,  0,  1,  1,  4,  4,  3,  4,  3,  0,  4,  2,\n",
              "        1,  0,  1,  2,  0,  1,  1,  0,  1,  4,  0,  3,  4,  4,  0,  1,  1,\n",
              "        1,  1,  1,  4,  4,  1,  0,  4,  0,  3,  1,  1,  0,  1,  1,  0,  1,\n",
              "        1,  4,  1,  0,  4,  2,  4,  0,  1,  4,  0,  0,  0,  1,  4,  2,  4,\n",
              "        0,  4,  0,  0,  2,  4,  3,  2,  4,  4,  1,  0,  1,  4,  1,  4,  0,\n",
              "        0,  1,  3,  4,  1,  4,  0,  0,  4,  0,  1,  0,  4,  0,  1,  0,  1,\n",
              "        2,  4,  4,  2,  4,  4,  1,  1,  0,  2,  0,  4,  4,  3,  2,  4,  2,\n",
              "        1,  4,  4,  0,  4,  1,  1,  2,  0,  4,  0,  0,  4,  0,  0,  0,  1,\n",
              "        4,  4,  0,  0,  0,  1,  4,  1,  1,  1,  1,  2,  1,  1,  1,  0,  0,\n",
              "        1,  1,  0,  2,  1,  4,  2,  4,  1,  1,  1,  1])"
            ]
          },
          "metadata": {},
          "execution_count": 34
        }
      ]
    },
    {
      "cell_type": "code",
      "source": [
        "sil4 = silhouette_score(X, label_4)\n",
        "ch4 = calinski_harabasz_score(X, label_4)\n",
        "\n",
        "print(sil4)\n",
        "print(ch4)"
      ],
      "metadata": {
        "colab": {
          "base_uri": "https://localhost:8080/"
        },
        "id": "FCULQfoZPsOl",
        "outputId": "cff6f129-e4be-4741-8d36-904893b44964"
      },
      "execution_count": null,
      "outputs": [
        {
          "output_type": "stream",
          "name": "stdout",
          "text": [
            "0.7965062016314277\n",
            "2191.7325157700852\n"
          ]
        }
      ]
    },
    {
      "cell_type": "code",
      "source": [
        "# Number of clusters in labels, ignoring noise if present.\n",
        "n_clusters_ = len(set(label_4)) - (1 if -1 in label_4 else 0)\n",
        "n_noise_ = list(label_4).count(-1)\n",
        "print('Estimated number of clusters: %d' % n_clusters_)\n",
        "print('Estimated number of noise points: %d' % n_noise_)"
      ],
      "metadata": {
        "colab": {
          "base_uri": "https://localhost:8080/"
        },
        "id": "fquouFN1WGYB",
        "outputId": "d19910f1-df17-4923-e17b-40556f73536e"
      },
      "execution_count": null,
      "outputs": [
        {
          "output_type": "stream",
          "name": "stdout",
          "text": [
            "Estimated number of clusters: 5\n",
            "Estimated number of noise points: 3\n"
          ]
        }
      ]
    },
    {
      "cell_type": "code",
      "source": [
        "#count of customers in each cluster\n",
        "np.unique(label_4, return_counts=True)"
      ],
      "metadata": {
        "colab": {
          "base_uri": "https://localhost:8080/"
        },
        "id": "6DskbnSfWeHd",
        "outputId": "0b38f3fb-989b-4052-89da-032486414834"
      },
      "execution_count": null,
      "outputs": [
        {
          "output_type": "execute_result",
          "data": {
            "text/plain": [
              "(array([-1,  0,  1,  2,  3,  4]), array([  3, 157, 146,  49,  24, 126]))"
            ]
          },
          "metadata": {},
          "execution_count": 37
        }
      ]
    },
    {
      "cell_type": "code",
      "source": [
        "print(X)"
      ],
      "metadata": {
        "colab": {
          "base_uri": "https://localhost:8080/"
        },
        "id": "kJzgefeEXH3k",
        "outputId": "e2ff1209-f9bc-41f0-c613-173dda3dce83"
      },
      "execution_count": null,
      "outputs": [
        {
          "output_type": "stream",
          "name": "stdout",
          "text": [
            "          Age    Income  SpendingScore   Savings\n",
            "0   -0.042287  0.062733       1.103593 -1.072467\n",
            "1   -0.000821  0.174811       1.102641 -1.303473\n",
            "2    0.123577 -0.021200       0.761727 -0.526556\n",
            "3   -0.000821 -0.031712       1.004705 -0.913395\n",
            "4    1.160228 -1.606165      -0.602619  1.012686\n",
            "..        ...       ...            ...       ...\n",
            "500 -1.286268  0.714535      -0.453557  0.621787\n",
            "501  1.409024 -1.545704      -1.164109  1.235201\n",
            "502  1.284626 -1.118447      -0.578054  0.855313\n",
            "503  1.326092 -1.524929      -0.579866  1.322452\n",
            "504  1.243160 -1.258335      -0.831890  0.510463\n",
            "\n",
            "[505 rows x 4 columns]\n"
          ]
        }
      ]
    },
    {
      "cell_type": "code",
      "source": [
        "#Feature Stats for each cluster\n",
        "\n",
        "Q1X2_df = pd.DataFrame(scaler.inverse_transform(X), columns=['Age','Income','Spending Score','Savings'])\n",
        "Q1X2_df['Cluster'] = label_4\n",
        "\n",
        "cl_group1 = Q1X2_df.groupby(['Cluster']).agg('describe')\n",
        "\n",
        "cl_group1['Age']\n",
        "cl_group1['Income']\n",
        "cl_group1['Spending Score']\n",
        "cl_group1['Savings']"
      ],
      "metadata": {
        "colab": {
          "base_uri": "https://localhost:8080/",
          "height": 1024
        },
        "id": "2NxLpgQvW0hU",
        "outputId": "71a813e5-ff6f-4d4d-e017-85ecbd7432cf"
      },
      "execution_count": null,
      "outputs": [
        {
          "output_type": "execute_result",
          "data": {
            "text/html": [
              "<div>\n",
              "<style scoped>\n",
              "    .dataframe tbody tr th:only-of-type {\n",
              "        vertical-align: middle;\n",
              "    }\n",
              "\n",
              "    .dataframe tbody tr th {\n",
              "        vertical-align: top;\n",
              "    }\n",
              "\n",
              "    .dataframe thead th {\n",
              "        text-align: right;\n",
              "    }\n",
              "</style>\n",
              "<table border=\"1\" class=\"dataframe\">\n",
              "  <thead>\n",
              "    <tr style=\"text-align: right;\">\n",
              "      <th></th>\n",
              "      <th>count</th>\n",
              "      <th>mean</th>\n",
              "      <th>std</th>\n",
              "      <th>min</th>\n",
              "      <th>25%</th>\n",
              "      <th>50%</th>\n",
              "      <th>75%</th>\n",
              "      <th>max</th>\n",
              "    </tr>\n",
              "    <tr>\n",
              "      <th>Cluster</th>\n",
              "      <th></th>\n",
              "      <th></th>\n",
              "      <th></th>\n",
              "      <th></th>\n",
              "      <th></th>\n",
              "      <th></th>\n",
              "      <th></th>\n",
              "      <th></th>\n",
              "    </tr>\n",
              "  </thead>\n",
              "  <tbody>\n",
              "    <tr>\n",
              "      <th>-1</th>\n",
              "      <td>3.0</td>\n",
              "      <td>64.666667</td>\n",
              "      <td>41.283572</td>\n",
              "      <td>17.0</td>\n",
              "      <td>52.50</td>\n",
              "      <td>88.0</td>\n",
              "      <td>88.50</td>\n",
              "      <td>89.0</td>\n",
              "    </tr>\n",
              "    <tr>\n",
              "      <th>0</th>\n",
              "      <td>157.0</td>\n",
              "      <td>59.955414</td>\n",
              "      <td>3.376662</td>\n",
              "      <td>51.0</td>\n",
              "      <td>58.00</td>\n",
              "      <td>59.0</td>\n",
              "      <td>62.00</td>\n",
              "      <td>68.0</td>\n",
              "    </tr>\n",
              "    <tr>\n",
              "      <th>1</th>\n",
              "      <td>146.0</td>\n",
              "      <td>87.767123</td>\n",
              "      <td>3.519485</td>\n",
              "      <td>79.0</td>\n",
              "      <td>85.00</td>\n",
              "      <td>88.0</td>\n",
              "      <td>91.00</td>\n",
              "      <td>97.0</td>\n",
              "    </tr>\n",
              "    <tr>\n",
              "      <th>2</th>\n",
              "      <td>49.0</td>\n",
              "      <td>24.326531</td>\n",
              "      <td>3.549576</td>\n",
              "      <td>17.0</td>\n",
              "      <td>22.00</td>\n",
              "      <td>25.0</td>\n",
              "      <td>27.00</td>\n",
              "      <td>31.0</td>\n",
              "    </tr>\n",
              "    <tr>\n",
              "      <th>3</th>\n",
              "      <td>24.0</td>\n",
              "      <td>85.916667</td>\n",
              "      <td>3.717370</td>\n",
              "      <td>77.0</td>\n",
              "      <td>83.75</td>\n",
              "      <td>85.5</td>\n",
              "      <td>88.25</td>\n",
              "      <td>93.0</td>\n",
              "    </tr>\n",
              "    <tr>\n",
              "      <th>4</th>\n",
              "      <td>126.0</td>\n",
              "      <td>32.777778</td>\n",
              "      <td>3.792390</td>\n",
              "      <td>22.0</td>\n",
              "      <td>30.00</td>\n",
              "      <td>33.0</td>\n",
              "      <td>35.00</td>\n",
              "      <td>44.0</td>\n",
              "    </tr>\n",
              "  </tbody>\n",
              "</table>\n",
              "</div>"
            ],
            "text/plain": [
              "         count       mean        std   min    25%   50%    75%   max\n",
              "Cluster                                                             \n",
              "-1         3.0  64.666667  41.283572  17.0  52.50  88.0  88.50  89.0\n",
              " 0       157.0  59.955414   3.376662  51.0  58.00  59.0  62.00  68.0\n",
              " 1       146.0  87.767123   3.519485  79.0  85.00  88.0  91.00  97.0\n",
              " 2        49.0  24.326531   3.549576  17.0  22.00  25.0  27.00  31.0\n",
              " 3        24.0  85.916667   3.717370  77.0  83.75  85.5  88.25  93.0\n",
              " 4       126.0  32.777778   3.792390  22.0  30.00  33.0  35.00  44.0"
            ]
          },
          "metadata": {},
          "execution_count": 39
        },
        {
          "output_type": "execute_result",
          "data": {
            "text/html": [
              "<div>\n",
              "<style scoped>\n",
              "    .dataframe tbody tr th:only-of-type {\n",
              "        vertical-align: middle;\n",
              "    }\n",
              "\n",
              "    .dataframe tbody tr th {\n",
              "        vertical-align: top;\n",
              "    }\n",
              "\n",
              "    .dataframe thead th {\n",
              "        text-align: right;\n",
              "    }\n",
              "</style>\n",
              "<table border=\"1\" class=\"dataframe\">\n",
              "  <thead>\n",
              "    <tr style=\"text-align: right;\">\n",
              "      <th></th>\n",
              "      <th>count</th>\n",
              "      <th>mean</th>\n",
              "      <th>std</th>\n",
              "      <th>min</th>\n",
              "      <th>25%</th>\n",
              "      <th>50%</th>\n",
              "      <th>75%</th>\n",
              "      <th>max</th>\n",
              "    </tr>\n",
              "    <tr>\n",
              "      <th>Cluster</th>\n",
              "      <th></th>\n",
              "      <th></th>\n",
              "      <th></th>\n",
              "      <th></th>\n",
              "      <th></th>\n",
              "      <th></th>\n",
              "      <th></th>\n",
              "      <th></th>\n",
              "    </tr>\n",
              "  </thead>\n",
              "  <tbody>\n",
              "    <tr>\n",
              "      <th>-1</th>\n",
              "      <td>3.0</td>\n",
              "      <td>91340.333333</td>\n",
              "      <td>58722.976613</td>\n",
              "      <td>24520.0</td>\n",
              "      <td>69643.50</td>\n",
              "      <td>114767.0</td>\n",
              "      <td>124750.50</td>\n",
              "      <td>134734.0</td>\n",
              "    </tr>\n",
              "    <tr>\n",
              "      <th>0</th>\n",
              "      <td>157.0</td>\n",
              "      <td>72448.063694</td>\n",
              "      <td>6240.260008</td>\n",
              "      <td>56321.0</td>\n",
              "      <td>68463.00</td>\n",
              "      <td>72027.0</td>\n",
              "      <td>76594.00</td>\n",
              "      <td>90422.0</td>\n",
              "    </tr>\n",
              "    <tr>\n",
              "      <th>1</th>\n",
              "      <td>146.0</td>\n",
              "      <td>27889.020548</td>\n",
              "      <td>6464.994528</td>\n",
              "      <td>12000.0</td>\n",
              "      <td>23341.50</td>\n",
              "      <td>27965.5</td>\n",
              "      <td>32654.50</td>\n",
              "      <td>46977.0</td>\n",
              "    </tr>\n",
              "    <tr>\n",
              "      <th>2</th>\n",
              "      <td>49.0</td>\n",
              "      <td>127892.285714</td>\n",
              "      <td>5664.114560</td>\n",
              "      <td>117108.0</td>\n",
              "      <td>123005.00</td>\n",
              "      <td>127699.0</td>\n",
              "      <td>131009.00</td>\n",
              "      <td>142000.0</td>\n",
              "    </tr>\n",
              "    <tr>\n",
              "      <th>3</th>\n",
              "      <td>24.0</td>\n",
              "      <td>120159.750000</td>\n",
              "      <td>4925.609450</td>\n",
              "      <td>110582.0</td>\n",
              "      <td>117509.75</td>\n",
              "      <td>119563.0</td>\n",
              "      <td>123780.75</td>\n",
              "      <td>128596.0</td>\n",
              "    </tr>\n",
              "    <tr>\n",
              "      <th>4</th>\n",
              "      <td>126.0</td>\n",
              "      <td>105265.809524</td>\n",
              "      <td>6080.621753</td>\n",
              "      <td>89598.0</td>\n",
              "      <td>100760.25</td>\n",
              "      <td>106002.5</td>\n",
              "      <td>108858.75</td>\n",
              "      <td>119877.0</td>\n",
              "    </tr>\n",
              "  </tbody>\n",
              "</table>\n",
              "</div>"
            ],
            "text/plain": [
              "         count           mean           std  ...       50%        75%       max\n",
              "Cluster                                      ...                               \n",
              "-1         3.0   91340.333333  58722.976613  ...  114767.0  124750.50  134734.0\n",
              " 0       157.0   72448.063694   6240.260008  ...   72027.0   76594.00   90422.0\n",
              " 1       146.0   27889.020548   6464.994528  ...   27965.5   32654.50   46977.0\n",
              " 2        49.0  127892.285714   5664.114560  ...  127699.0  131009.00  142000.0\n",
              " 3        24.0  120159.750000   4925.609450  ...  119563.0  123780.75  128596.0\n",
              " 4       126.0  105265.809524   6080.621753  ...  106002.5  108858.75  119877.0\n",
              "\n",
              "[6 rows x 8 columns]"
            ]
          },
          "metadata": {},
          "execution_count": 39
        },
        {
          "output_type": "execute_result",
          "data": {
            "text/html": [
              "<div>\n",
              "<style scoped>\n",
              "    .dataframe tbody tr th:only-of-type {\n",
              "        vertical-align: middle;\n",
              "    }\n",
              "\n",
              "    .dataframe tbody tr th {\n",
              "        vertical-align: top;\n",
              "    }\n",
              "\n",
              "    .dataframe thead th {\n",
              "        text-align: right;\n",
              "    }\n",
              "</style>\n",
              "<table border=\"1\" class=\"dataframe\">\n",
              "  <thead>\n",
              "    <tr style=\"text-align: right;\">\n",
              "      <th></th>\n",
              "      <th>count</th>\n",
              "      <th>mean</th>\n",
              "      <th>std</th>\n",
              "      <th>min</th>\n",
              "      <th>25%</th>\n",
              "      <th>50%</th>\n",
              "      <th>75%</th>\n",
              "      <th>max</th>\n",
              "    </tr>\n",
              "    <tr>\n",
              "      <th>Cluster</th>\n",
              "      <th></th>\n",
              "      <th></th>\n",
              "      <th></th>\n",
              "      <th></th>\n",
              "      <th></th>\n",
              "      <th></th>\n",
              "      <th></th>\n",
              "      <th></th>\n",
              "    </tr>\n",
              "  </thead>\n",
              "  <tbody>\n",
              "    <tr>\n",
              "      <th>-1</th>\n",
              "      <td>3.0</td>\n",
              "      <td>0.444654</td>\n",
              "      <td>0.412858</td>\n",
              "      <td>0.032208</td>\n",
              "      <td>0.238020</td>\n",
              "      <td>0.443833</td>\n",
              "      <td>0.650877</td>\n",
              "      <td>0.857922</td>\n",
              "    </tr>\n",
              "    <tr>\n",
              "      <th>0</th>\n",
              "      <td>157.0</td>\n",
              "      <td>0.771518</td>\n",
              "      <td>0.046058</td>\n",
              "      <td>0.657314</td>\n",
              "      <td>0.740367</td>\n",
              "      <td>0.766720</td>\n",
              "      <td>0.800598</td>\n",
              "      <td>0.910417</td>\n",
              "    </tr>\n",
              "    <tr>\n",
              "      <th>1</th>\n",
              "      <td>146.0</td>\n",
              "      <td>0.328013</td>\n",
              "      <td>0.044356</td>\n",
              "      <td>0.203140</td>\n",
              "      <td>0.301438</td>\n",
              "      <td>0.324456</td>\n",
              "      <td>0.356635</td>\n",
              "      <td>0.473550</td>\n",
              "    </tr>\n",
              "    <tr>\n",
              "      <th>2</th>\n",
              "      <td>49.0</td>\n",
              "      <td>0.897687</td>\n",
              "      <td>0.043547</td>\n",
              "      <td>0.806553</td>\n",
              "      <td>0.872736</td>\n",
              "      <td>0.890891</td>\n",
              "      <td>0.926818</td>\n",
              "      <td>1.000000</td>\n",
              "    </tr>\n",
              "    <tr>\n",
              "      <th>3</th>\n",
              "      <td>24.0</td>\n",
              "      <td>0.069885</td>\n",
              "      <td>0.039862</td>\n",
              "      <td>0.000000</td>\n",
              "      <td>0.039817</td>\n",
              "      <td>0.066026</td>\n",
              "      <td>0.084962</td>\n",
              "      <td>0.155694</td>\n",
              "    </tr>\n",
              "    <tr>\n",
              "      <th>4</th>\n",
              "      <td>126.0</td>\n",
              "      <td>0.309926</td>\n",
              "      <td>0.045513</td>\n",
              "      <td>0.174120</td>\n",
              "      <td>0.281237</td>\n",
              "      <td>0.309479</td>\n",
              "      <td>0.341096</td>\n",
              "      <td>0.411112</td>\n",
              "    </tr>\n",
              "  </tbody>\n",
              "</table>\n",
              "</div>"
            ],
            "text/plain": [
              "         count      mean       std  ...       50%       75%       max\n",
              "Cluster                             ...                              \n",
              "-1         3.0  0.444654  0.412858  ...  0.443833  0.650877  0.857922\n",
              " 0       157.0  0.771518  0.046058  ...  0.766720  0.800598  0.910417\n",
              " 1       146.0  0.328013  0.044356  ...  0.324456  0.356635  0.473550\n",
              " 2        49.0  0.897687  0.043547  ...  0.890891  0.926818  1.000000\n",
              " 3        24.0  0.069885  0.039862  ...  0.066026  0.084962  0.155694\n",
              " 4       126.0  0.309926  0.045513  ...  0.309479  0.341096  0.411112\n",
              "\n",
              "[6 rows x 8 columns]"
            ]
          },
          "metadata": {},
          "execution_count": 39
        },
        {
          "output_type": "execute_result",
          "data": {
            "text/html": [
              "<div>\n",
              "<style scoped>\n",
              "    .dataframe tbody tr th:only-of-type {\n",
              "        vertical-align: middle;\n",
              "    }\n",
              "\n",
              "    .dataframe tbody tr th {\n",
              "        vertical-align: top;\n",
              "    }\n",
              "\n",
              "    .dataframe thead th {\n",
              "        text-align: right;\n",
              "    }\n",
              "</style>\n",
              "<table border=\"1\" class=\"dataframe\">\n",
              "  <thead>\n",
              "    <tr style=\"text-align: right;\">\n",
              "      <th></th>\n",
              "      <th>count</th>\n",
              "      <th>mean</th>\n",
              "      <th>std</th>\n",
              "      <th>min</th>\n",
              "      <th>25%</th>\n",
              "      <th>50%</th>\n",
              "      <th>75%</th>\n",
              "      <th>max</th>\n",
              "    </tr>\n",
              "    <tr>\n",
              "      <th>Cluster</th>\n",
              "      <th></th>\n",
              "      <th></th>\n",
              "      <th></th>\n",
              "      <th></th>\n",
              "      <th></th>\n",
              "      <th></th>\n",
              "      <th></th>\n",
              "      <th></th>\n",
              "    </tr>\n",
              "  </thead>\n",
              "  <tbody>\n",
              "    <tr>\n",
              "      <th>-1</th>\n",
              "      <td>3.0</td>\n",
              "      <td>10463.343118</td>\n",
              "      <td>9310.346010</td>\n",
              "      <td>0.000000</td>\n",
              "      <td>6778.467942</td>\n",
              "      <td>13556.935883</td>\n",
              "      <td>15695.014677</td>\n",
              "      <td>17833.093470</td>\n",
              "    </tr>\n",
              "    <tr>\n",
              "      <th>0</th>\n",
              "      <td>157.0</td>\n",
              "      <td>6889.972190</td>\n",
              "      <td>1052.276354</td>\n",
              "      <td>4077.658657</td>\n",
              "      <td>6225.376082</td>\n",
              "      <td>6845.056822</td>\n",
              "      <td>7497.231607</td>\n",
              "      <td>10547.775368</td>\n",
              "    </tr>\n",
              "    <tr>\n",
              "      <th>1</th>\n",
              "      <td>146.0</td>\n",
              "      <td>16680.510250</td>\n",
              "      <td>1159.455393</td>\n",
              "      <td>13470.970605</td>\n",
              "      <td>15998.732013</td>\n",
              "      <td>16713.113999</td>\n",
              "      <td>17446.653017</td>\n",
              "      <td>20000.000000</td>\n",
              "    </tr>\n",
              "    <tr>\n",
              "      <th>2</th>\n",
              "      <td>49.0</td>\n",
              "      <td>4170.939090</td>\n",
              "      <td>1145.202047</td>\n",
              "      <td>610.446219</td>\n",
              "      <td>3290.829469</td>\n",
              "      <td>4371.234733</td>\n",
              "      <td>5011.112062</td>\n",
              "      <td>6089.478323</td>\n",
              "    </tr>\n",
              "    <tr>\n",
              "      <th>3</th>\n",
              "      <td>24.0</td>\n",
              "      <td>14682.666723</td>\n",
              "      <td>994.101308</td>\n",
              "      <td>12554.692742</td>\n",
              "      <td>14035.603981</td>\n",
              "      <td>14638.408996</td>\n",
              "      <td>15378.837513</td>\n",
              "      <td>16840.570584</td>\n",
              "    </tr>\n",
              "    <tr>\n",
              "      <th>4</th>\n",
              "      <td>126.0</td>\n",
              "      <td>14962.778066</td>\n",
              "      <td>1061.734017</td>\n",
              "      <td>12207.526078</td>\n",
              "      <td>14223.787562</td>\n",
              "      <td>14976.943192</td>\n",
              "      <td>15682.288845</td>\n",
              "      <td>17968.553929</td>\n",
              "    </tr>\n",
              "  </tbody>\n",
              "</table>\n",
              "</div>"
            ],
            "text/plain": [
              "         count          mean  ...           75%           max\n",
              "Cluster                       ...                            \n",
              "-1         3.0  10463.343118  ...  15695.014677  17833.093470\n",
              " 0       157.0   6889.972190  ...   7497.231607  10547.775368\n",
              " 1       146.0  16680.510250  ...  17446.653017  20000.000000\n",
              " 2        49.0   4170.939090  ...   5011.112062   6089.478323\n",
              " 3        24.0  14682.666723  ...  15378.837513  16840.570584\n",
              " 4       126.0  14962.778066  ...  15682.288845  17968.553929\n",
              "\n",
              "[6 rows x 8 columns]"
            ]
          },
          "metadata": {},
          "execution_count": 39
        }
      ]
    },
    {
      "cell_type": "markdown",
      "metadata": {
        "id": "6ySJIgNr1Sfy"
      },
      "source": [
        "## 1.3 Model Comparison"
      ]
    },
    {
      "cell_type": "markdown",
      "metadata": {
        "id": "gwQembOT1L6U"
      },
      "source": [
        "Based on silouette and calinski harabasz scores, K-Means clustering with 5 clusters have the highest score, meaning that the clusters are farthest away and the ost dispersed compared to other algorithms.\n",
        "Both K-means and DBSCAN were easy to use, but DBSCAN can be easier as you don't have to determine the optimal number of clusters. They were both quick to run for our data this time.\n",
        "\n",
        "DBSCAN resulted in 3 outliers that were not included in any of the clusters, whereas K-Means clustering included all customer. DBSCAN might be helpful when determining outliers, but by quickly looking at the mean age, income, spending score, and savings, resulting personas seemed similar, so K-means clustering was used as the final algorithm."
      ]
    },
    {
      "cell_type": "markdown",
      "metadata": {
        "id": "MP2EAnCJ1Xta"
      },
      "source": [
        "## 1.4 Personas"
      ]
    },
    {
      "cell_type": "markdown",
      "metadata": {
        "id": "dVewu2TZ1XhK"
      },
      "source": [
        "There are 5 personas based on K-means clustering. \n",
        "\n",
        "1) \"Young & Rich\" (cluster 0) are customers around the age of 33, who have high income and large savings. Their spedning score is low likely because they are still young and only purchases when neccessary, so they only purchased once or very few times at our store.\n",
        "\n",
        "  example customer: Age 33, Income CAD 105,266, Spending Score 0.31, Savings $14,963\n",
        "\n",
        "2) \"High Spenders\" (cluster 1) are around middle age with high spending score, but not so high income and savings amount. Based on their income, they're not likely to impulse buy from our store, but in special occassion, they purchased and are likely to purchse. As their income is not too high, they are likely to respond to deals.\n",
        "\n",
        "  Example customer: Age 60, income CAD 72,448, Spending Score 0.77, Savings $6,890\n",
        "\n",
        "3) \"Retired - average\" (cluster 2) are elders with low income but high savings. They also have low spending score, but not as extremem as some others. They are likely living on their retirement savings balance, so they are less likely to impulse buy, but may respond to deals.\n",
        "\n",
        "Example customer: Age 88, income CAD27,866, Spending score 0.33, savings $16,660\n",
        "\n",
        "4) \"YOLO\" (cluster 3) are very young and high income customers but without high savings. They likely purchase impulsively as their spending score is high but savings are low. The store is likely to be able to attract these customers with loyalty points and target advertisement as they are likely to purchase.\n",
        "\n",
        "  Example customer: Age 24, income CAD 128,029 Spending score 0.90, savings $4,087\n",
        "\n",
        "5) \"Retired - flugal\" (cluster 4) are not likely to purchase a lot from our store. They have high income and high savings, but their spending score is extremely low and they are likely retired elders. Doing advertisement or loyalty program might not be effective to these customers as their spending habbit is already set.\n",
        "\n",
        "  Example customers: Age 86, income CAD 119,944, spending score 0.07, savings $14,809\n",
        "\n",
        "---\n",
        "\n"
      ]
    },
    {
      "cell_type": "markdown",
      "metadata": {
        "id": "DYwuYIgczYSv"
      },
      "source": [
        "# Question 2: Uncle Steve's Fine Foods"
      ]
    },
    {
      "cell_type": "markdown",
      "metadata": {
        "id": "4oCr-mTfNG-H"
      },
      "source": [
        "## Instructions\n",
        "\n",
        "Uncle Steve runs a small, local grocery store in Ontario. The store sells all the normal food staples (e.g., bread, milk, cheese, eggs, more cheese, fruits, vegatables, meat, fish, waffles, ice cream, pasta, cereals, drinks), personal care products (e.g., toothpaste, shampoo, hair goo), medicine, and cakes. There's even a little section with flowers and greeting cards! Normal people shop here, and buy normal things in the normal way.\n",
        "\n",
        "Business is OK but Uncle Steve wants more. He's thus on the hunt for customer insights. Given your success at the jewelry store, he has asked you to help him out. \n",
        "\n",
        "He has given you a few years' worth of customer transactions, i.e., sets of items that customers have purchased. You have applied an association rules learning algorithm (like Apriori) to the data, and the algorithm has generated a large set of association rules of the form `{X} -> {Y}`, where `{X}` and `{Y}` are item-sets.\n",
        "\n",
        "Now comes a thought experiment. For each of the following scenarios, state what one of the discovered association rules might be that would meet the stated condition. (Just make up the rule, using your human experience and intuition.) Also, describe whether and why each rule would be considered interesting or uninteresting for Uncle Steve (i.e., is this insight new to him? Would he be able to use it somehow?).\n",
        "\n",
        "Keep each answer to 600 characters or less (including spaces).\n",
        "\n",
        "To get those brain juices going, an example condition and answer is provided below:\n",
        "\n",
        "> Condition: A rule that has high support.\n",
        "\n",
        "> Answer: The rule `{milk} -> {bread}` would have high support, since milk and bread are household staples and a high percentage of transactions would include both `{milk}` and `{bread}`. Uncle Steve would likely not find this rule interesting, because these items are so common, he would have surely already noticed that so many transactions contain them.\n",
        "\n",
        "**Marking**\n",
        "\n",
        "Your responses will be marked as follows:\n",
        "\n",
        "- *Correctness*. Rule meets the specificed condition, and seems plausible in an Ontario grocery store.\n",
        "- *Justification of interestness*. Response clearly describes whether and why the rule would be considered interesting to Uncle Steve.\n",
        "\n",
        "**Tips**\n",
        "\n",
        "- There is no actual data for this question. This question is just a thought exercise. You need to use your intuition, creatitivty, and understanding of the real world. I assume you are familiar with what happens inside of normal grocery stores. We are not using actual data and you do not need to create/generate/find any data. I repeat: there is no data for this question.\n",
        "- The reason this question is having you do a thought experiment, rather than writing and running code to find actual association rules on an actual dataset, is because writing code to find association rules is actually pretty easy. But using your brain to come up with rules that meet certain criteria, on the other hand, is a true test of whether you understand how the algorithm works, what support and confidence mean, and the applicability of rules. The question uses the grocery store context because most, if not all, students should be familiar from personal experience.\n",
        "\n"
      ]
    },
    {
      "cell_type": "markdown",
      "metadata": {
        "id": "3YQsOb6CzYVq"
      },
      "source": [
        "## 2.1: A rule that might have high support and high confidence. "
      ]
    },
    {
      "cell_type": "markdown",
      "metadata": {
        "id": "DzXu1IvK-MEg"
      },
      "source": [
        "{frozen pizza} -> {coke} would have high support and high confidence as frozen pizza and coke purchase would occur often and when frozen pizza is bought, customers are likely to buy coke as well. This rule might not be as interesting, because it is also very common, so he would have already noticed this rule.\n"
      ]
    },
    {
      "cell_type": "markdown",
      "metadata": {
        "id": "VNIrAgJk-L4l"
      },
      "source": [
        "## 2.2: A rule that might have reasonably high support but low confidence."
      ]
    },
    {
      "cell_type": "markdown",
      "metadata": {
        "id": "svdzYW3S-LvF"
      },
      "source": [
        "{Apple} -> {banana} would have a reasonably high support but low confidence. They are both common fruits, so purchasing apple and banana would occur often, but purchasing apple would not neccessarily mean they will also purchase banana as well. This information is also not as interesting since they are both very common fruits, so they are usually already placed near each other in the produce/fruit section in stores.\n"
      ]
    },
    {
      "cell_type": "markdown",
      "metadata": {
        "id": "loe--LMz-Ll8"
      },
      "source": [
        "## 2.3: A rule that might have low support and low confidence."
      ]
    },
    {
      "cell_type": "markdown",
      "metadata": {
        "id": "HdyOB5fe-Zgy"
      },
      "source": [
        "{cat toy} -> {hypoallergenic shampoo} would have low support as cat food and aypoallergenic shampoo would not occur often. It would also have low confidence as when cat toy is purchased, the person is not likely to purchase hypoallergenic shampoo since they are likle to have allergies and it could include cat allergy. It might be interesting to Uncle Steve, because if a customer is looking for hypoallergenic products, they likely do not want to be near animal products nor strongly scented products. So Uncle Steve should place hypoallergenic products far away from other products.\n"
      ]
    },
    {
      "cell_type": "markdown",
      "metadata": {
        "id": "St2eI3We-ZYs"
      },
      "source": [
        "## 2.4: A rule that might have low support and high confidence."
      ]
    },
    {
      "cell_type": "markdown",
      "metadata": {
        "id": "LcdZc-B1-fE7"
      },
      "source": [
        "{birthday cake} -> {birthday candles} would have low support as not many customers purchase bithday cakes and candles from grocery store on a daily basis compared to total transactions. However, when a customer purchase a cake, they are likely to also purchase candles at the same store. This can be interesting as Uncle Steve so he can place birthday candel stand next to the cakes."
      ]
    },
    {
      "cell_type": "markdown",
      "metadata": {
        "id": "B_IHoz7f2yIV"
      },
      "source": [
        "# Question 3: Uncle Steve's Credit Union"
      ]
    },
    {
      "cell_type": "markdown",
      "metadata": {
        "id": "WhERdkp_zYBY"
      },
      "source": [
        "## Instructions\n",
        "\n",
        "Uncle Steve has recently opened a new credit union in Kingston, named *Uncle Steve's Credit Union*. He plans to disrupt the local market by instaneously providing credit to customers.\n",
        "\n",
        "The first step in Uncle Steve's master plan is to create a model to predict whether an application has *good risk* or *bad risk*. He has outsourced the creation of this model to you.\n",
        "\n",
        "You are to create a classification model to predict whether a loan applicant has good risk or bad risk. You will use data  that Uncle Steve bought from another credit union (somewhere in Europe, he thinks?) that has around 6000 instances and a number of demographics features (e.g., `Sex`, `DateOfBirth`, `Married`), loan details (e.g., `Amount`, `Purpose`), credit history (e.g., number of loans), as well as an indicator (called `BadCredit` in the dataset) as to whether that person was a bad risk.\n",
        "\n",
        "\n",
        "**Your tasks**\n",
        "\n",
        "To examine the effects of the various ML stages, you are to create the model several times, each time adding more sophistication, and measuring how much the model improved (or not). In particular, you will:\n",
        "\n",
        "0. Split the data in training and testing. Don't touch the testing data again, for any reason, until step 5. We are pretending that the testing data is \"future, unseen data that our model won't see until production.\" I'm serious, don't touch it. I'm watching you!\n",
        "1. Build a baseline model - no feature engineering, no feature selection, no hyperparameter tuning (just use the default settings), nothing fancy. (You may need to do some basic feature transformations, e.g., encoding of categorical features, or dropping of features you do not think will help or do not want to deal with yet.) Measure the performance using K-fold cross validation (recommended: [`sklearn.model_selection.cross_val_score`](https://scikit-learn.org/stable/modules/generated/sklearn.model_selection.cross_val_score.html#sklearn.model_selection.cross_val_score)) on the training data. Use at least 5 folds, but more are better. Choose a [`scoring` parameter](https://scikit-learn.org/stable/modules/model_evaluation.html#scoring-parameter) (i.e., classification metric) that you feel is appropriate for this task. Don't use accuracy. Print the mean score of your model.\n",
        "2. Add a bit of feature engineering. The [`sklearn.preprocessing`](https://scikit-learn.org/stable/modules/classes.html#module-sklearn.preprocessing) module contains many useful transformations. Engineer at least three new features. They don't need to be especially ground-breaking or complicated. Dimensionality reduction techniques like [`sklearn.decomposition.PCA`](https://scikit-learn.org/stable/modules/generated/sklearn.decomposition.PCA.html) are fair game but not required. (If you do use dimensionality reduction techniques, it would only count as \"one\" new feature for the purposes of this assignment, even though I realize that PCA creates many new \"features\" (i.e., principal componentns).) Re-train your baseline model. Measure performance. Compare to step 1.\n",
        "3. Add feature selection. The [`sklearn.feature_selection`](https://scikit-learn.org/stable/modules/classes.html#module-sklearn.feature_selection) has some algorithms for you to choose from. After selecting features, re-train your model, measure performance, and compare to step 2.\n",
        "4. Add hyperparameter tuning. Make reasonable choices and try to find the best (or at least, better) hyperparameters for your estimator and/or transformers. It's probably a good idea to stop using `cross_val_score` at this point and start using [`sklearn.model_selection.GridSearchCV`](https://scikit-learn.org/stable/modules/generated/sklearn.model_selection.GridSearchCV.html#sklearn.model_selection.GridSearchCV) as it is specifically built for this purpose and is more convienient to use. Measure performance and compare to step 3.\n",
        "5. Finally, estimate how well your model will work in production. Use the testing data (our \"future, unseen data\") from step 0. Transform the data as appropriate (easy if you've built a pipeline, a little more difficult if not), use the model from step 4 to get predictions, and measure the performance. How well did we do? \n",
        "\n",
        "\n",
        "**Marking**\n",
        "\n",
        "Each part will be marked for:\n",
        "- *Correctness*. Code clearly and fully performs the task specified.\n",
        "- *Reproducibility*. Code is fully reproducible. I.e., you (and I) should be able to run this Notebook again and again, from top to bottom, and get the same results each and every time.\n",
        "- *Style*. Code is organized. All parts commented with clear reasoning and rationale. No old code laying around. Code easy to follow. \n",
        "\n",
        "\n",
        "**Tips**\n",
        "- The origins of the dataset are a bit of a mystery. Assume the data set is recent (circa 2021) and up-to-date. Assume that column names are correct and accurate.\n",
        "- You don't need to experiment with more than one algorithm/estimator. Just choose one (e.g., [`sklearn.tree.DecisionTreeClassifier`](https://scikit-learn.org/stable/modules/generated/sklearn.tree.DecisionTreeClassifier.html#sklearn.tree.DecisionTreeClassifier), [`sklearn.ensemble.RandomForestClassifier`](https://scikit-learn.org/stable/modules/generated/sklearn.ensemble.RandomForestClassifier.html#sklearn.ensemble.RandomForestClassifier), [`sklearn.linear_model.LogisticRegression`](https://scikit-learn.org/stable/modules/generated/sklearn.linear_model.LogisticRegression.html#sklearn.linear_model.LogisticRegression), [`sklearn.svm.LinearSVC`](https://scikit-learn.org/stable/modules/generated/sklearn.svm.LinearSVC.html#sklearn.svm.LinearSVC), whatever) and stick with it for this question. \n",
        "- There is no minimum accuracy/precision/recall for this question. I.e., your mark will not be based on how good your model is. Rather, you mark will be based on good your process is.\n",
        "- Watch out for data leakage and overfitting. In particular, be sure to `fit()` any estimators and transformers (collectively, *objects*) only to the training data, and then use the objects' `transform()` methods on both the training and testing data. [Data School](https://www.youtube.com/c/dataschool/featured) has a [helpful video](https://www.youtube.com/watch?v=g2XsZdwbCCs) about this. [Pipelines](https://www.youtube.com/watch?v=1Y6O9nCo0-I) are very helpful here and make your code shorter and more robust (at the expense of making it harder to understand), and I recommend using them, but they are not required for this assignment.\n",
        "- Create as many code cells as you need. In general, each cell should do one \"thing.\"\n",
        "-\tDon't print large volumes of output. E.g., don't do: `df.head(100)`\n",
        "\n",
        "\n"
      ]
    },
    {
      "cell_type": "markdown",
      "metadata": {
        "id": "jqm_REd4oouz"
      },
      "source": [
        "## 3.0: Load data and split"
      ]
    },
    {
      "cell_type": "code",
      "metadata": {
        "id": "X6b_BM0Nz9sF",
        "colab": {
          "base_uri": "https://localhost:8080/"
        },
        "outputId": "cc6fd66f-d517-4c3d-88de-bc6e4297de37"
      },
      "source": [
        "# DO NOT MODIFY THIS CELL\n",
        "\n",
        "# First, we'll read the provided labeled training data\n",
        "df3 = pd.read_csv(\"https://drive.google.com/uc?export=download&id=1wOhyCnvGeY4jplxI8lZ-bbYN3zLtickf\")\n",
        "df3.info()\n",
        "\n",
        "from sklearn.model_selection import train_test_split\n",
        "\n",
        "X = df3.drop('BadCredit', axis=1) #.select_dtypes(['number'])\n",
        "y = df3['BadCredit']\n",
        "\n",
        "X_train, X_test, y_train, y_test = train_test_split(X, y, test_size=0.2, random_state=42)"
      ],
      "execution_count": null,
      "outputs": [
        {
          "output_type": "stream",
          "name": "stdout",
          "text": [
            "<class 'pandas.core.frame.DataFrame'>\n",
            "RangeIndex: 6000 entries, 0 to 5999\n",
            "Data columns (total 17 columns):\n",
            " #   Column             Non-Null Count  Dtype \n",
            "---  ------             --------------  ----- \n",
            " 0   UserID             6000 non-null   object\n",
            " 1   Sex                6000 non-null   object\n",
            " 2   PreviousDefault    6000 non-null   int64 \n",
            " 3   FirstName          6000 non-null   object\n",
            " 4   LastName           6000 non-null   object\n",
            " 5   NumberPets         6000 non-null   int64 \n",
            " 6   PreviousAccounts   6000 non-null   int64 \n",
            " 7   ResidenceDuration  6000 non-null   int64 \n",
            " 8   Street             6000 non-null   object\n",
            " 9   LicensePlate       6000 non-null   object\n",
            " 10  BadCredit          6000 non-null   int64 \n",
            " 11  Amount             6000 non-null   int64 \n",
            " 12  Married            6000 non-null   int64 \n",
            " 13  Duration           6000 non-null   int64 \n",
            " 14  City               6000 non-null   object\n",
            " 15  Purpose            6000 non-null   object\n",
            " 16  DateOfBirth        6000 non-null   object\n",
            "dtypes: int64(8), object(9)\n",
            "memory usage: 797.0+ KB\n"
          ]
        }
      ]
    },
    {
      "cell_type": "markdown",
      "metadata": {
        "id": "sdiKKblCo53S"
      },
      "source": [
        "## 3.1: Baseline model"
      ]
    },
    {
      "cell_type": "code",
      "source": [
        "df3.head(5)"
      ],
      "metadata": {
        "colab": {
          "base_uri": "https://localhost:8080/",
          "height": 206
        },
        "id": "PdTGJkoNxoh-",
        "outputId": "19c46da9-310e-4bd1-e859-ea26aa23663d"
      },
      "execution_count": null,
      "outputs": [
        {
          "output_type": "execute_result",
          "data": {
            "text/html": [
              "<div>\n",
              "<style scoped>\n",
              "    .dataframe tbody tr th:only-of-type {\n",
              "        vertical-align: middle;\n",
              "    }\n",
              "\n",
              "    .dataframe tbody tr th {\n",
              "        vertical-align: top;\n",
              "    }\n",
              "\n",
              "    .dataframe thead th {\n",
              "        text-align: right;\n",
              "    }\n",
              "</style>\n",
              "<table border=\"1\" class=\"dataframe\">\n",
              "  <thead>\n",
              "    <tr style=\"text-align: right;\">\n",
              "      <th></th>\n",
              "      <th>UserID</th>\n",
              "      <th>Sex</th>\n",
              "      <th>PreviousDefault</th>\n",
              "      <th>FirstName</th>\n",
              "      <th>LastName</th>\n",
              "      <th>NumberPets</th>\n",
              "      <th>PreviousAccounts</th>\n",
              "      <th>ResidenceDuration</th>\n",
              "      <th>Street</th>\n",
              "      <th>LicensePlate</th>\n",
              "      <th>BadCredit</th>\n",
              "      <th>Amount</th>\n",
              "      <th>Married</th>\n",
              "      <th>Duration</th>\n",
              "      <th>City</th>\n",
              "      <th>Purpose</th>\n",
              "      <th>DateOfBirth</th>\n",
              "    </tr>\n",
              "  </thead>\n",
              "  <tbody>\n",
              "    <tr>\n",
              "      <th>0</th>\n",
              "      <td>218-84-8180</td>\n",
              "      <td>F</td>\n",
              "      <td>0</td>\n",
              "      <td>Debra</td>\n",
              "      <td>Schaefer</td>\n",
              "      <td>2</td>\n",
              "      <td>3</td>\n",
              "      <td>1</td>\n",
              "      <td>503 Linda Locks</td>\n",
              "      <td>395C</td>\n",
              "      <td>0</td>\n",
              "      <td>3907</td>\n",
              "      <td>0</td>\n",
              "      <td>24</td>\n",
              "      <td>Port Keith</td>\n",
              "      <td>Vacation</td>\n",
              "      <td>1964-04-07</td>\n",
              "    </tr>\n",
              "    <tr>\n",
              "      <th>1</th>\n",
              "      <td>395-49-9764</td>\n",
              "      <td>M</td>\n",
              "      <td>0</td>\n",
              "      <td>Derek</td>\n",
              "      <td>Wright</td>\n",
              "      <td>0</td>\n",
              "      <td>1</td>\n",
              "      <td>1</td>\n",
              "      <td>969 Cox Dam Suite 101</td>\n",
              "      <td>UFZ 691</td>\n",
              "      <td>0</td>\n",
              "      <td>3235</td>\n",
              "      <td>0</td>\n",
              "      <td>12</td>\n",
              "      <td>Lake Debra</td>\n",
              "      <td>NewCar</td>\n",
              "      <td>1978-06-02</td>\n",
              "    </tr>\n",
              "    <tr>\n",
              "      <th>2</th>\n",
              "      <td>892-81-4890</td>\n",
              "      <td>F</td>\n",
              "      <td>0</td>\n",
              "      <td>Shannon</td>\n",
              "      <td>Smith</td>\n",
              "      <td>0</td>\n",
              "      <td>0</td>\n",
              "      <td>2</td>\n",
              "      <td>845 Kelly Estate</td>\n",
              "      <td>48A•281</td>\n",
              "      <td>0</td>\n",
              "      <td>3108</td>\n",
              "      <td>1</td>\n",
              "      <td>30</td>\n",
              "      <td>North Judithbury</td>\n",
              "      <td>NewCar</td>\n",
              "      <td>1972-03-18</td>\n",
              "    </tr>\n",
              "    <tr>\n",
              "      <th>3</th>\n",
              "      <td>081-11-7963</td>\n",
              "      <td>F</td>\n",
              "      <td>0</td>\n",
              "      <td>Christina</td>\n",
              "      <td>Brooks</td>\n",
              "      <td>2</td>\n",
              "      <td>1</td>\n",
              "      <td>3</td>\n",
              "      <td>809 Burns Creek</td>\n",
              "      <td>30Z J39</td>\n",
              "      <td>1</td>\n",
              "      <td>4014</td>\n",
              "      <td>1</td>\n",
              "      <td>36</td>\n",
              "      <td>Lake Chad</td>\n",
              "      <td>Other</td>\n",
              "      <td>1985-02-26</td>\n",
              "    </tr>\n",
              "    <tr>\n",
              "      <th>4</th>\n",
              "      <td>347-03-9639</td>\n",
              "      <td>M</td>\n",
              "      <td>0</td>\n",
              "      <td>Ralph</td>\n",
              "      <td>Anderson</td>\n",
              "      <td>1</td>\n",
              "      <td>5</td>\n",
              "      <td>1</td>\n",
              "      <td>248 Brandt Plains Apt. 465</td>\n",
              "      <td>71-Q331</td>\n",
              "      <td>1</td>\n",
              "      <td>3823</td>\n",
              "      <td>0</td>\n",
              "      <td>18</td>\n",
              "      <td>North Judithbury</td>\n",
              "      <td>Vacation</td>\n",
              "      <td>1983-08-08</td>\n",
              "    </tr>\n",
              "  </tbody>\n",
              "</table>\n",
              "</div>"
            ],
            "text/plain": [
              "        UserID Sex  PreviousDefault  ...              City   Purpose  DateOfBirth\n",
              "0  218-84-8180   F                0  ...        Port Keith  Vacation   1964-04-07\n",
              "1  395-49-9764   M                0  ...        Lake Debra    NewCar   1978-06-02\n",
              "2  892-81-4890   F                0  ...  North Judithbury    NewCar   1972-03-18\n",
              "3  081-11-7963   F                0  ...         Lake Chad     Other   1985-02-26\n",
              "4  347-03-9639   M                0  ...  North Judithbury  Vacation   1983-08-08\n",
              "\n",
              "[5 rows x 17 columns]"
            ]
          },
          "metadata": {},
          "execution_count": 41
        }
      ]
    },
    {
      "cell_type": "code",
      "source": [
        "#Check for missing data\n",
        "X_train.isnull().sum()"
      ],
      "metadata": {
        "colab": {
          "base_uri": "https://localhost:8080/"
        },
        "id": "Gx1Pj_Wtwzu6",
        "outputId": "949bf69d-d666-40fa-96e0-1d5d613f41ca"
      },
      "execution_count": null,
      "outputs": [
        {
          "output_type": "execute_result",
          "data": {
            "text/plain": [
              "UserID               0\n",
              "Sex                  0\n",
              "PreviousDefault      0\n",
              "FirstName            0\n",
              "LastName             0\n",
              "NumberPets           0\n",
              "PreviousAccounts     0\n",
              "ResidenceDuration    0\n",
              "Street               0\n",
              "LicensePlate         0\n",
              "Amount               0\n",
              "Married              0\n",
              "Duration             0\n",
              "City                 0\n",
              "Purpose              0\n",
              "DateOfBirth          0\n",
              "dtype: int64"
            ]
          },
          "metadata": {},
          "execution_count": 42
        }
      ]
    },
    {
      "cell_type": "code",
      "source": [
        "#encoding categorical variables\n",
        "from sklearn.preprocessing import LabelEncoder\n",
        "\n",
        "X_train1 = X_train.drop('UserID', axis=1)\n",
        "\n",
        "label_encoder = LabelEncoder()\n",
        "\n",
        "train_str = X_train1.select_dtypes(include = ['object'])\n",
        "train_num = X_train1.select_dtypes(exclude = ['object'])\n",
        "\n",
        "for feat in train_str:\n",
        "    train_str[feat] = label_encoder.fit_transform(train_str[feat].astype(str))\n",
        "\n",
        "enc_train = pd.concat([train_num,train_str], axis=1)\n",
        "enc_train.info()"
      ],
      "metadata": {
        "colab": {
          "base_uri": "https://localhost:8080/"
        },
        "id": "6VQUxkd2xjQW",
        "outputId": "4fa77d23-196a-4789-88e9-a64bd846b025"
      },
      "execution_count": null,
      "outputs": [
        {
          "output_type": "stream",
          "name": "stdout",
          "text": [
            "<class 'pandas.core.frame.DataFrame'>\n",
            "Int64Index: 4800 entries, 3897 to 860\n",
            "Data columns (total 15 columns):\n",
            " #   Column             Non-Null Count  Dtype\n",
            "---  ------             --------------  -----\n",
            " 0   PreviousDefault    4800 non-null   int64\n",
            " 1   NumberPets         4800 non-null   int64\n",
            " 2   PreviousAccounts   4800 non-null   int64\n",
            " 3   ResidenceDuration  4800 non-null   int64\n",
            " 4   Amount             4800 non-null   int64\n",
            " 5   Married            4800 non-null   int64\n",
            " 6   Duration           4800 non-null   int64\n",
            " 7   Sex                4800 non-null   int64\n",
            " 8   FirstName          4800 non-null   int64\n",
            " 9   LastName           4800 non-null   int64\n",
            " 10  Street             4800 non-null   int64\n",
            " 11  LicensePlate       4800 non-null   int64\n",
            " 12  City               4800 non-null   int64\n",
            " 13  Purpose            4800 non-null   int64\n",
            " 14  DateOfBirth        4800 non-null   int64\n",
            "dtypes: int64(15)\n",
            "memory usage: 600.0 KB\n"
          ]
        },
        {
          "output_type": "stream",
          "name": "stderr",
          "text": [
            "/usr/local/lib/python3.7/dist-packages/ipykernel_launcher.py:12: SettingWithCopyWarning: \n",
            "A value is trying to be set on a copy of a slice from a DataFrame.\n",
            "Try using .loc[row_indexer,col_indexer] = value instead\n",
            "\n",
            "See the caveats in the documentation: https://pandas.pydata.org/pandas-docs/stable/user_guide/indexing.html#returning-a-view-versus-a-copy\n",
            "  if sys.path[0] == '':\n"
          ]
        }
      ]
    },
    {
      "cell_type": "code",
      "metadata": {
        "id": "mSumAZUAo9O6",
        "colab": {
          "base_uri": "https://localhost:8080/"
        },
        "outputId": "49938a91-41f5-4466-96c6-0b96afc26ff6"
      },
      "source": [
        "#Base Random Forest Model\n",
        "from sklearn.ensemble import RandomForestClassifier\n",
        "from sklearn.model_selection import cross_val_score\n",
        "\n",
        "clf_rf = RandomForestClassifier(\n",
        "    random_state=0)\n",
        "clf_rf.fit(enc_train, y_train)\n",
        "\n",
        "scores = cross_val_score(clf_rf, enc_train, y_train, cv = 15, scoring = 'f1_macro')\n",
        "scores"
      ],
      "execution_count": null,
      "outputs": [
        {
          "output_type": "execute_result",
          "data": {
            "text/plain": [
              "RandomForestClassifier(random_state=0)"
            ]
          },
          "metadata": {},
          "execution_count": 44
        },
        {
          "output_type": "execute_result",
          "data": {
            "text/plain": [
              "array([0.81037037, 0.77893538, 0.78666667, 0.75467359, 0.76720501,\n",
              "       0.72457415, 0.76698594, 0.83596286, 0.7582067 , 0.79241611,\n",
              "       0.73423467, 0.80283426, 0.76305747, 0.76720501, 0.78367938])"
            ]
          },
          "metadata": {},
          "execution_count": 44
        }
      ]
    },
    {
      "cell_type": "code",
      "source": [
        "print(scores.mean())"
      ],
      "metadata": {
        "colab": {
          "base_uri": "https://localhost:8080/"
        },
        "id": "QwijIrDjz1UH",
        "outputId": "5b17c30d-b757-4511-e864-07ea6660e4d3"
      },
      "execution_count": null,
      "outputs": [
        {
          "output_type": "stream",
          "name": "stdout",
          "text": [
            "0.7751338372065782\n"
          ]
        }
      ]
    },
    {
      "cell_type": "markdown",
      "metadata": {
        "id": "ugyTS51Ko5vz"
      },
      "source": [
        "## 3.2: Feature engineering"
      ]
    },
    {
      "cell_type": "code",
      "source": [
        "#See Distribution plots\n",
        "\n",
        "sns.distplot(X_train1.NumberPets)\n",
        "\n",
        "sns.distplot(X_train1.PreviousAccounts)\n",
        "\n",
        "sns.distplot(X_train1.ResidenceDuration)"
      ],
      "metadata": {
        "colab": {
          "base_uri": "https://localhost:8080/",
          "height": 490
        },
        "id": "h5-kApVh6DZp",
        "outputId": "a474131a-a940-4867-fe33-4ecffff36022"
      },
      "execution_count": null,
      "outputs": [
        {
          "output_type": "stream",
          "name": "stderr",
          "text": [
            "/usr/local/lib/python3.7/dist-packages/seaborn/distributions.py:2619: FutureWarning: `distplot` is a deprecated function and will be removed in a future version. Please adapt your code to use either `displot` (a figure-level function with similar flexibility) or `histplot` (an axes-level function for histograms).\n",
            "  warnings.warn(msg, FutureWarning)\n"
          ]
        },
        {
          "output_type": "execute_result",
          "data": {
            "text/plain": [
              "<matplotlib.axes._subplots.AxesSubplot at 0x7f1999131fd0>"
            ]
          },
          "metadata": {},
          "execution_count": 46
        },
        {
          "output_type": "stream",
          "name": "stderr",
          "text": [
            "/usr/local/lib/python3.7/dist-packages/seaborn/distributions.py:2619: FutureWarning: `distplot` is a deprecated function and will be removed in a future version. Please adapt your code to use either `displot` (a figure-level function with similar flexibility) or `histplot` (an axes-level function for histograms).\n",
            "  warnings.warn(msg, FutureWarning)\n"
          ]
        },
        {
          "output_type": "execute_result",
          "data": {
            "text/plain": [
              "<matplotlib.axes._subplots.AxesSubplot at 0x7f1999131fd0>"
            ]
          },
          "metadata": {},
          "execution_count": 46
        },
        {
          "output_type": "stream",
          "name": "stderr",
          "text": [
            "/usr/local/lib/python3.7/dist-packages/seaborn/distributions.py:2619: FutureWarning: `distplot` is a deprecated function and will be removed in a future version. Please adapt your code to use either `displot` (a figure-level function with similar flexibility) or `histplot` (an axes-level function for histograms).\n",
            "  warnings.warn(msg, FutureWarning)\n"
          ]
        },
        {
          "output_type": "execute_result",
          "data": {
            "text/plain": [
              "<matplotlib.axes._subplots.AxesSubplot at 0x7f1999131fd0>"
            ]
          },
          "metadata": {},
          "execution_count": 46
        },
        {
          "output_type": "display_data",
          "data": {
            "image/png": "[encoded data removed]",
            "text/plain": [
              "<Figure size 576x360 with 1 Axes>"
            ]
          },
          "metadata": {
            "needs_background": "light"
          }
        }
      ]
    },
    {
      "cell_type": "code",
      "source": [
        "sns.distplot(X_train1.Amount)"
      ],
      "metadata": {
        "colab": {
          "base_uri": "https://localhost:8080/",
          "height": 416
        },
        "id": "6JLKSCIc9eH7",
        "outputId": "b680905c-a4fd-4a5e-c141-52520499b9f2"
      },
      "execution_count": null,
      "outputs": [
        {
          "output_type": "stream",
          "name": "stderr",
          "text": [
            "/usr/local/lib/python3.7/dist-packages/seaborn/distributions.py:2619: FutureWarning: `distplot` is a deprecated function and will be removed in a future version. Please adapt your code to use either `displot` (a figure-level function with similar flexibility) or `histplot` (an axes-level function for histograms).\n",
            "  warnings.warn(msg, FutureWarning)\n"
          ]
        },
        {
          "output_type": "execute_result",
          "data": {
            "text/plain": [
              "<matplotlib.axes._subplots.AxesSubplot at 0x7f1995cfb610>"
            ]
          },
          "metadata": {},
          "execution_count": 47
        },
        {
          "output_type": "display_data",
          "data": {
            "image/png": "[encoded data removed]",
            "text/plain": [
              "<Figure size 576x360 with 1 Axes>"
            ]
          },
          "metadata": {
            "needs_background": "light"
          }
        }
      ]
    },
    {
      "cell_type": "markdown",
      "source": [
        "Decide to log amount and scale numeric values based on the distribution and the values being so different (0,1 and then 3500 for amount)"
      ],
      "metadata": {
        "id": "4mLjYjj6cq8G"
      }
    },
    {
      "cell_type": "code",
      "source": [
        "sns.distplot(X_train1.Duration)"
      ],
      "metadata": {
        "colab": {
          "base_uri": "https://localhost:8080/",
          "height": 416
        },
        "id": "wQgD_8aH9kz6",
        "outputId": "27c80bd0-3a82-48dc-b02f-98c0eaeb11bf"
      },
      "execution_count": null,
      "outputs": [
        {
          "output_type": "stream",
          "name": "stderr",
          "text": [
            "/usr/local/lib/python3.7/dist-packages/seaborn/distributions.py:2619: FutureWarning: `distplot` is a deprecated function and will be removed in a future version. Please adapt your code to use either `displot` (a figure-level function with similar flexibility) or `histplot` (an axes-level function for histograms).\n",
            "  warnings.warn(msg, FutureWarning)\n"
          ]
        },
        {
          "output_type": "execute_result",
          "data": {
            "text/plain": [
              "<matplotlib.axes._subplots.AxesSubplot at 0x7f1995c4e810>"
            ]
          },
          "metadata": {},
          "execution_count": 48
        },
        {
          "output_type": "display_data",
          "data": {
            "image/png": "[encoded data removed]",
            "text/plain": [
              "<Figure size 576x360 with 1 Axes>"
            ]
          },
          "metadata": {
            "needs_background": "light"
          }
        }
      ]
    },
    {
      "cell_type": "code",
      "source": [
        "X_dateofbirth = X_train.DateOfBirth\n",
        "X_train2 = X_train.drop(['UserID','DateOfBirth'], axis=1)\n",
        "\n",
        "\n",
        "train_str = X_train2.select_dtypes(include = ['object'])\n",
        "train_num = X_train2.select_dtypes(exclude = ['object'])\n",
        "\n",
        "for feat in train_str:\n",
        "    train_str[feat] = label_encoder.fit_transform(train_str[feat].astype(str))\n",
        "\n",
        "enc_train1 = pd.concat([train_num,train_str,X_dateofbirth], axis=1)\n",
        "enc_train1.info()"
      ],
      "metadata": {
        "colab": {
          "base_uri": "https://localhost:8080/"
        },
        "id": "HBHynDRj88jB",
        "outputId": "a33bb7bf-982b-46a2-a110-70fe00200204"
      },
      "execution_count": null,
      "outputs": [
        {
          "output_type": "stream",
          "name": "stdout",
          "text": [
            "<class 'pandas.core.frame.DataFrame'>\n",
            "Int64Index: 4800 entries, 3897 to 860\n",
            "Data columns (total 15 columns):\n",
            " #   Column             Non-Null Count  Dtype \n",
            "---  ------             --------------  ----- \n",
            " 0   PreviousDefault    4800 non-null   int64 \n",
            " 1   NumberPets         4800 non-null   int64 \n",
            " 2   PreviousAccounts   4800 non-null   int64 \n",
            " 3   ResidenceDuration  4800 non-null   int64 \n",
            " 4   Amount             4800 non-null   int64 \n",
            " 5   Married            4800 non-null   int64 \n",
            " 6   Duration           4800 non-null   int64 \n",
            " 7   Sex                4800 non-null   int64 \n",
            " 8   FirstName          4800 non-null   int64 \n",
            " 9   LastName           4800 non-null   int64 \n",
            " 10  Street             4800 non-null   int64 \n",
            " 11  LicensePlate       4800 non-null   int64 \n",
            " 12  City               4800 non-null   int64 \n",
            " 13  Purpose            4800 non-null   int64 \n",
            " 14  DateOfBirth        4800 non-null   object\n",
            "dtypes: int64(14), object(1)\n",
            "memory usage: 600.0+ KB\n"
          ]
        },
        {
          "output_type": "stream",
          "name": "stderr",
          "text": [
            "/usr/local/lib/python3.7/dist-packages/ipykernel_launcher.py:9: SettingWithCopyWarning: \n",
            "A value is trying to be set on a copy of a slice from a DataFrame.\n",
            "Try using .loc[row_indexer,col_indexer] = value instead\n",
            "\n",
            "See the caveats in the documentation: https://pandas.pydata.org/pandas-docs/stable/user_guide/indexing.html#returning-a-view-versus-a-copy\n",
            "  if __name__ == '__main__':\n"
          ]
        }
      ]
    },
    {
      "cell_type": "code",
      "metadata": {
        "id": "742aYkYbprVD"
      },
      "source": [
        "#Pipeline1\n",
        "\n",
        "from sklearn.pipeline import Pipeline\n",
        "from sklearn.preprocessing import StandardScaler, OneHotEncoder, FunctionTransformer, LabelEncoder, OrdinalEncoder\n",
        "from sklearn.impute import SimpleImputer\n",
        "from sklearn.compose import ColumnTransformer\n",
        "from sklearn.feature_selection import SelectKBest\n",
        "from sklearn.metrics import classification_report, confusion_matrix\n",
        "from sklearn.model_selection import cross_val_score, GridSearchCV\n",
        "\n",
        "numeric_features = ['PreviousDefault', 'NumberPets', 'PreviousAccounts', 'ResidenceDuration', 'Amount', 'Married', 'Duration']\n",
        "\n",
        "# Date of birth to age\n",
        "def get_age_years(feature):\n",
        "  res = np.array([])\n",
        "  for instance in feature:\n",
        "    age = 2021 - int(instance[0:4])\n",
        "    res = np.append(res, age)\n",
        "  return res.reshape(-1, 1)\n",
        "\n",
        "clf = RandomForestClassifier(random_state=42)\n",
        "\n",
        "numeric_transformer = Pipeline(steps=[\n",
        "    ('imputer', SimpleImputer()),\n",
        "    ('scaler', StandardScaler()),\n",
        "    ])\n",
        "\n",
        "\n",
        "preprocessor1 = Pipeline(steps=[\n",
        "      ('ct', ColumnTransformer(\n",
        "        transformers=[\n",
        "            ('num', numeric_transformer, numeric_features),\n",
        "            (('amount_log', FunctionTransformer(np.log10, validate=False), ['Amount'])),\n",
        "            ('age', FunctionTransformer(get_age_years, validate=False), 'DateOfBirth')]))\n",
        "      ])\n",
        "\n",
        "pipe1 = Pipeline(steps=[('preprocessor', preprocessor1),  ('clf', clf)])\n",
        "\n",
        "scores1 = cross_val_score(pipe1, enc_train1, y_train, scoring='f1_macro', cv = 15)\n",
        "\n",
        "\n"
      ],
      "execution_count": null,
      "outputs": []
    },
    {
      "cell_type": "code",
      "source": [
        "scores1\n",
        "print(scores1.mean())\n"
      ],
      "metadata": {
        "colab": {
          "base_uri": "https://localhost:8080/"
        },
        "id": "oTI5qtwsF4b1",
        "outputId": "0099c1f7-d5d0-415e-fdda-3de2a6f9c388"
      },
      "execution_count": null,
      "outputs": [
        {
          "output_type": "execute_result",
          "data": {
            "text/plain": [
              "array([0.80926106, 0.78117164, 0.75899631, 0.73423467, 0.79241611,\n",
              "       0.7469689 , 0.75125433, 0.83480196, 0.75895703, 0.8072144 ,\n",
              "       0.73039216, 0.78835979, 0.69262436, 0.76300566, 0.77893538])"
            ]
          },
          "metadata": {},
          "execution_count": 51
        },
        {
          "output_type": "stream",
          "name": "stdout",
          "text": [
            "0.7685729162728813\n"
          ]
        }
      ]
    },
    {
      "cell_type": "markdown",
      "source": [
        "F1 score improved by 0.01 from the base model"
      ],
      "metadata": {
        "id": "bhFs0Lg7MzoI"
      }
    },
    {
      "cell_type": "markdown",
      "metadata": {
        "id": "PsdD0clko5pz"
      },
      "source": [
        "## 3.3: Feature selection"
      ]
    },
    {
      "cell_type": "code",
      "source": [
        "#see correlation\n",
        "train = pd.concat([X_train, y_train], axis=1)\n",
        "\n",
        "corr=train.corr()\n",
        "fig, ax = plt.subplots(figsize=(15,15))  \n",
        "sns.heatmap(corr,xticklabels=True, yticklabels=True, annot=True, fmt=\".2f\")\n",
        "plt.show()"
      ],
      "metadata": {
        "colab": {
          "base_uri": "https://localhost:8080/",
          "height": 990
        },
        "id": "tllKyGx8Bcjm",
        "outputId": "a1a89e04-e5f6-4b42-e9bb-6f72b7d5385f"
      },
      "execution_count": null,
      "outputs": [
        {
          "output_type": "execute_result",
          "data": {
            "text/plain": [
              "<matplotlib.axes._subplots.AxesSubplot at 0x7f1995ba9290>"
            ]
          },
          "metadata": {},
          "execution_count": 52
        },
        {
          "output_type": "display_data",
          "data": {
            "image/png": "[encoded data removed]",
            "text/plain": [
              "<Figure size 1080x1080 with 2 Axes>"
            ]
          },
          "metadata": {
            "needs_background": "light"
          }
        }
      ]
    },
    {
      "cell_type": "markdown",
      "source": [
        "Not too many correlated numeric variables, decide to drop some features"
      ],
      "metadata": {
        "id": "01sZmtQTcjWL"
      }
    },
    {
      "cell_type": "code",
      "source": [
        "#see what are top 2 features \n",
        "\n",
        "from sklearn.feature_selection import SelectKBest, mutual_info_regression\n",
        "#Select top 2 features based on mutual info regression\n",
        "selector = SelectKBest(mutual_info_regression, k =2)\n",
        "selector.fit(enc_train, y_train)\n",
        "enc_train.columns[selector.get_support()]"
      ],
      "metadata": {
        "colab": {
          "base_uri": "https://localhost:8080/"
        },
        "id": "hq9tpt4ME011",
        "outputId": "2142381d-875e-4162-f718-a63f8ec76534"
      },
      "execution_count": null,
      "outputs": [
        {
          "output_type": "execute_result",
          "data": {
            "text/plain": [
              "SelectKBest(k=2, score_func=<function mutual_info_regression at 0x7f199b17b7a0>)"
            ]
          },
          "metadata": {},
          "execution_count": 53
        },
        {
          "output_type": "execute_result",
          "data": {
            "text/plain": [
              "Index(['Amount', 'DateOfBirth'], dtype='object')"
            ]
          },
          "metadata": {},
          "execution_count": 53
        }
      ]
    },
    {
      "cell_type": "code",
      "metadata": {
        "id": "rxX2ERqzpqxi"
      },
      "source": [
        "numeric_features = ['PreviousDefault', 'NumberPets', 'PreviousAccounts', 'ResidenceDuration', 'Amount', 'Married', 'Duration']\n",
        "\n",
        "drop_features = ['NumberPets','FirstName', 'LastName']\n",
        "\n",
        "# Date of birth to age\n",
        "def get_age_years(feature):\n",
        "  res = np.array([])\n",
        "  for instance in feature:\n",
        "    age = 2021 - int(instance[0:4])\n",
        "    res = np.append(res, age)\n",
        "  return res.reshape(-1, 1)\n",
        "\n",
        "clf = RandomForestClassifier(random_state=42)\n",
        "\n",
        "numeric_transformer = Pipeline(steps=[\n",
        "    ('imputer', SimpleImputer()),\n",
        "    ('scaler', StandardScaler()),\n",
        "    ])\n",
        "\n",
        "preprocessor2 = Pipeline(steps=[\n",
        "      ('ct', ColumnTransformer(\n",
        "        transformers=[\n",
        "            ('num', numeric_transformer, numeric_features),\n",
        "            ('amount_scale', StandardScaler(), ['Amount']),\n",
        "            ('age', FunctionTransformer(get_age_years, validate=False), 'DateOfBirth'),\n",
        "            ('drop', 'drop', drop_features)]))\n",
        "      ])\n",
        "\n",
        "pipe2 = Pipeline(steps=[('preprocessor', preprocessor2),  ('clf', clf)])\n",
        "\n",
        "scores2 = cross_val_score(pipe2, enc_train1, y_train, scoring='f1_macro', cv = 15)\n",
        "\n"
      ],
      "execution_count": null,
      "outputs": []
    },
    {
      "cell_type": "code",
      "source": [
        "scores2\n",
        "print(scores2.mean())\n"
      ],
      "metadata": {
        "colab": {
          "base_uri": "https://localhost:8080/"
        },
        "id": "zUpKG1Z1F6_C",
        "outputId": "145dc776-d0a8-4abe-a56d-980374e92d24"
      },
      "execution_count": null,
      "outputs": [
        {
          "output_type": "execute_result",
          "data": {
            "text/plain": [
              "array([0.80519481, 0.78117164, 0.75899631, 0.73423467, 0.79241611,\n",
              "       0.73875567, 0.75125433, 0.83480196, 0.75895703, 0.8072144 ,\n",
              "       0.73039216, 0.78835979, 0.69262436, 0.76300566, 0.77893538])"
            ]
          },
          "metadata": {},
          "execution_count": 55
        },
        {
          "output_type": "stream",
          "name": "stdout",
          "text": [
            "0.7677542844087452\n"
          ]
        }
      ]
    },
    {
      "cell_type": "markdown",
      "source": [
        "F1 score didn't improve, it declined slightly"
      ],
      "metadata": {
        "id": "1VVabciuM6Eh"
      }
    },
    {
      "cell_type": "markdown",
      "metadata": {
        "id": "Ff4l2aNKo5fr"
      },
      "source": [
        "## 3.4: Hyperparameter tuning"
      ]
    },
    {
      "cell_type": "code",
      "metadata": {
        "id": "7XaxtTWMpIpP",
        "colab": {
          "base_uri": "https://localhost:8080/"
        },
        "outputId": "91afb451-5906-4632-8b93-da9fd9880ad7"
      },
      "source": [
        "from sklearn.model_selection import GridSearchCV\n",
        "\n",
        "numeric_features = ['PreviousDefault', 'NumberPets', 'PreviousAccounts', 'ResidenceDuration', 'Amount', 'Married', 'Duration']\n",
        "\n",
        "drop_features = ['NumberPets','FirstName', 'LastName']\n",
        "\n",
        "# Date of birth to age\n",
        "def get_age_years(feature):\n",
        "  res = np.array([])\n",
        "  for instance in feature:\n",
        "    age = 2021 - int(instance[0:4])\n",
        "    res = np.append(res, age)\n",
        "  return res.reshape(-1, 1)\n",
        "\n",
        "clf = RandomForestClassifier(random_state=42)\n",
        "\n",
        "numeric_transformer = Pipeline(steps=[\n",
        "    ('imputer', SimpleImputer()),\n",
        "    ('scaler', StandardScaler()),\n",
        "    ])\n",
        "\n",
        "preprocessor3 = Pipeline(steps=[\n",
        "      ('ct', ColumnTransformer(\n",
        "        transformers=[\n",
        "            ('num', numeric_transformer, numeric_features),\n",
        "            ('amount_scale', StandardScaler(), ['Amount']),\n",
        "            ('age', FunctionTransformer(get_age_years, validate=False), 'DateOfBirth'),\n",
        "            ('drop', 'drop', drop_features)],\n",
        "            remainder = 'passthrough', \n",
        "            sparse_threshold=0)),\n",
        "      ('feature_selector', SelectKBest(k=10)),\n",
        "    ])\n",
        "\n",
        "pipe3 = Pipeline(steps=[('preprocessor', preprocessor3),  ('clf', clf)])\n",
        "\n",
        "param_grid = {\n",
        "    'preprocessor__ct__num__scaler__with_mean': [True, False],\n",
        "    'preprocessor__ct__num__scaler__with_std': [True, False],\n",
        "    'preprocessor__feature_selector__k': [5, 10, 14],\n",
        "    'clf__max_depth': [None, 3, 10],\n",
        "    'clf__criterion': ['gini', 'entropy'], \n",
        "    'clf__class_weight':[None, 'balanced'],\n",
        "}\n",
        "\n",
        "pipe3 = GridSearchCV(pipe3, param_grid, cv=15, n_jobs=-1, \n",
        "                     scoring='f1_macro', return_train_score=True, verbose=2, error_score='raise')\n",
        "\n",
        "pipe3 = pipe3.fit(enc_train1, y_train)\n",
        "\n",
        "\n",
        "print(pipe3.best_score_)\n",
        "print(pipe3.best_params_)\n"
      ],
      "execution_count": null,
      "outputs": [
        {
          "output_type": "stream",
          "name": "stdout",
          "text": [
            "Fitting 15 folds for each of 144 candidates, totalling 2160 fits\n",
            "0.7970210364003297\n",
            "{'clf__class_weight': 'balanced', 'clf__criterion': 'entropy', 'clf__max_depth': 10, 'preprocessor__ct__num__scaler__with_mean': True, 'preprocessor__ct__num__scaler__with_std': True, 'preprocessor__feature_selector__k': 5}\n"
          ]
        }
      ]
    },
    {
      "cell_type": "markdown",
      "source": [
        "Model improved by 0.03 of F1 score."
      ],
      "metadata": {
        "id": "3q48MO_aYfNX"
      }
    },
    {
      "cell_type": "markdown",
      "metadata": {
        "id": "Te9gGGLEpXRG"
      },
      "source": [
        "## 3.5: Performance estimation"
      ]
    },
    {
      "cell_type": "code",
      "metadata": {
        "id": "YV_35bEupbfs",
        "colab": {
          "base_uri": "https://localhost:8080/"
        },
        "outputId": "2b7f5bec-64cf-4ffb-8c62-f0c936fe2d9b"
      },
      "source": [
        "#Using Test DAta\n",
        "\n",
        "X_test_dateofbirth = X_test.DateOfBirth\n",
        "X_test1 = X_test.drop(['UserID','DateOfBirth'], axis=1)\n",
        "\n",
        "\n",
        "test_str = X_test1.select_dtypes(include = ['object'])\n",
        "test_num = X_test1.select_dtypes(exclude = ['object'])\n",
        "\n",
        "for feat in test_str:\n",
        "    test_str[feat] = label_encoder.fit_transform(test_str[feat].astype(str))\n",
        "\n",
        "enc_test = pd.concat([test_num,test_str,X_test_dateofbirth], axis=1)\n",
        "enc_test.info()"
      ],
      "execution_count": null,
      "outputs": [
        {
          "output_type": "stream",
          "name": "stdout",
          "text": [
            "<class 'pandas.core.frame.DataFrame'>\n",
            "Int64Index: 1200 entries, 1782 to 1765\n",
            "Data columns (total 15 columns):\n",
            " #   Column             Non-Null Count  Dtype \n",
            "---  ------             --------------  ----- \n",
            " 0   PreviousDefault    1200 non-null   int64 \n",
            " 1   NumberPets         1200 non-null   int64 \n",
            " 2   PreviousAccounts   1200 non-null   int64 \n",
            " 3   ResidenceDuration  1200 non-null   int64 \n",
            " 4   Amount             1200 non-null   int64 \n",
            " 5   Married            1200 non-null   int64 \n",
            " 6   Duration           1200 non-null   int64 \n",
            " 7   Sex                1200 non-null   int64 \n",
            " 8   FirstName          1200 non-null   int64 \n",
            " 9   LastName           1200 non-null   int64 \n",
            " 10  Street             1200 non-null   int64 \n",
            " 11  LicensePlate       1200 non-null   int64 \n",
            " 12  City               1200 non-null   int64 \n",
            " 13  Purpose            1200 non-null   int64 \n",
            " 14  DateOfBirth        1200 non-null   object\n",
            "dtypes: int64(14), object(1)\n",
            "memory usage: 150.0+ KB\n"
          ]
        },
        {
          "output_type": "stream",
          "name": "stderr",
          "text": [
            "/usr/local/lib/python3.7/dist-packages/ipykernel_launcher.py:11: SettingWithCopyWarning: \n",
            "A value is trying to be set on a copy of a slice from a DataFrame.\n",
            "Try using .loc[row_indexer,col_indexer] = value instead\n",
            "\n",
            "See the caveats in the documentation: https://pandas.pydata.org/pandas-docs/stable/user_guide/indexing.html#returning-a-view-versus-a-copy\n",
            "  # This is added back by InteractiveShellApp.init_path()\n"
          ]
        }
      ]
    },
    {
      "cell_type": "code",
      "source": [
        "pipe3.score(enc_test, y_test)"
      ],
      "metadata": {
        "colab": {
          "base_uri": "https://localhost:8080/"
        },
        "id": "FeN3LZu0YOQR",
        "outputId": "dfc99a9c-998b-4a75-8d6f-a11810b2743d"
      },
      "execution_count": null,
      "outputs": [
        {
          "output_type": "execute_result",
          "data": {
            "text/plain": [
              "0.812564597085889"
            ]
          },
          "metadata": {},
          "execution_count": 58
        }
      ]
    },
    {
      "cell_type": "markdown",
      "source": [
        "Model performed consistently with the training set with 0.797 F1 score compared to the test one resulting 0.812"
      ],
      "metadata": {
        "id": "1Ya9mlOVYklP"
      }
    },
    {
      "cell_type": "markdown",
      "metadata": {
        "id": "bPiErnUaTQSk"
      },
      "source": [
        "# Question 4: Uncle Steve's Wind Farm"
      ]
    },
    {
      "cell_type": "markdown",
      "metadata": {
        "id": "NzLLQCmKTk9E"
      },
      "source": [
        "## Instructions\n",
        "\n",
        "\n",
        "Uncle Steve has invested in wind. He's built a BIG wind farm with a total of  700 turbines. He's been running the farm for a couple of years now and things are going well. He sells the power generated by the farm to the Kingston government and makes a tidy profit. And, of course, he has been gathering data about the turbines' operations.\n",
        "\n",
        "One area of concern, however, is the cost of maintenece. While the turbines are fairly robust, it seems like one breaks/fails every couple of days. When a turbine fails, it usually costs around \\$20,000 to repair it. Yikes!\n",
        "\n",
        "Currently, Uncle Steve is not doing any preventative maintenance. He just waits until a turbine fails, and then he fixes it. But Uncle Steve has recently learned that if he services a turbine *before* it fails, it will only cost around $2,000. \n",
        "\n",
        "Obviously, there is a potential to save a lot of money here. But first, Uncle Steve would need to figure out *which* turbines are about to fail. Uncle Steve being Uncle Steve, he wants to use ML to build a predictive maintenance model. The model will alert Uncle Steve to potential turbine failures before they happen, giving Uncle Steve a chance to perform an inspection on the turbine and then fix the turbine before it fails. Uncle Steve plans to run the model every morning. For all the turbines that the model predicts will fail, Uncle Steve will order an inspection (which cost a flat \\$500, no matter if the turbine was in good health or not; the \\$500 would not be part of the $2,000 service cost). For the rest of the turbines, Uncle Steve will do nothing.\n",
        "\n",
        "Uncle Steve has used the last few year's worth of operation data to build and assess a model to predict which turbines will fail on any given day. (The data includes useful features like sensor readings, power output, weather, and many more, but those are not important for now.) In fact, he didn't stop there: he built and assessed two models. One model uses using deep learning (in this case, RNNs), and the other uses random forests.\n",
        "\n",
        "He's tuned the bejeebers out of each model and is comfortable that he has found the best-performing version of each. Both models seem really good: both have accuracy scores > 99%. The RNN has better recall, but Uncle Steve is convinced that the random forest model will be better for him since it has better precision. Just to be sure, he has hired you to double check his calculations. \n",
        "\n",
        "**Your task**\n",
        "\n",
        " Which model will save Uncle Steve more money? Justify.\n",
        "\n",
        "\n",
        "In addition to the details above, here is the assessment of each model:\n",
        "\n",
        "- Confusion matrix for the random forest:\n",
        "\n",
        "|         | Predicted Fail           | Predicted No Fail  |\n",
        "| ------------- |------------| -----:|\n",
        "| **Actual Fail**      | 201 | 55 |\n",
        "| **Actual No Fail**   | 50 | 255195 |\n",
        "\n",
        "- Confusion matrix for the RNN:\n",
        "\n",
        "|         | Predicted Fail           | Predicted No Fail  |\n",
        "| ------------- |------------| -----:|\n",
        "| **Actual Fail**      | 226 | 30 |\n",
        "| **Actual No Fail**   | 1200 | 254045 |\n",
        "\n",
        "\n",
        "**Marking**\n",
        "\n",
        "- *Quality*. Response is well-justified and convincing. \n",
        "- *Style*. Response uses proper grammar, spelling, and punctuation. Response is clear and professional. Response is complete, but not overly-verbose. Response follows length guidelines.\n",
        "\n",
        "\n",
        "\n",
        "**Tips**\n",
        "\n",
        "- Figure out how much Uncle Steve is currently (i.e., without any predictive maintinance models) paying in maintenance costs.\n",
        "- Use the information provided above to create a cost matrix.\n",
        "- Use the cost matrix and the confusion matrices to determine the costs of each model.\n",
        "- The cost of an inspection is the same, no matter if the turbine is in good condition or is about to fail.\n",
        "- If the inspection determines that a turbine is about to fail, then it will be fixed right then and there for the additional fee.\n",
        "- For simplicity, assume the inspections are perfect: i.e., that inspecting a turbine will definitely catch any problems that might exist, and won't accidentally flag an otherwise-healthy turbine.\n",
        "\n"
      ]
    },
    {
      "cell_type": "markdown",
      "metadata": {
        "id": "nAf1SIeKTkfl"
      },
      "source": [
        "# Uncle Steve would have spent approximately CAD 5,120,000 (five million dollars) last year fixing 256 turbines each costing 'CAD $20,000' to fix.\n",
        "\n",
        "Random Forest model will have higher savings in cost of approximately CAD 3.49 million compared to the RNN model which will have $3.36 million. This is because Random Forest model has a better precision that when the model predicts it will fail, it does indeed fail at a higher rate (lower false positives). However, RNN model has a better recall, which means that when the model avoids actual fails that are predicted as no fail (lower false negatives). This might make us believe that RNN is better as it will avoid the situation that turbine fails when we didn't predict it. However, RNN resulted in a significantly higher number of turbines that are predicted as fail but did not actually fail. So the cost using RNN was increased significantly due to the flat CAD 500 cost of all the turbines that were falsely predicted as fail.\n",
        "\n",
        "Therefore, the Random Forest model will result in higher savings for Uncle Steve.\n",
        "\n",
        "# Cost matrix would be as follows:\n",
        "![Assignment 1.png](data:image/png;base64,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)\n",
        "\n",
        "![Assignment 2.png](data:image/png;base64,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)"
      ]
    }
  ]
}